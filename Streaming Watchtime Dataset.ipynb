{
 "cells": [
  {
   "cell_type": "markdown",
   "id": "8a54a701-9057-4411-84d2-c61b1f5d5950",
   "metadata": {},
   "source": [
    "# Streaming Watching Dataset"
   ]
  },
  {
   "cell_type": "markdown",
   "id": "586a76e5-b179-4b8a-834d-a0369f28852a",
   "metadata": {},
   "source": [
    "# Objective\n",
    "**To understand how people watch content on different platforms, devices, and genres by analyzing watch time and completion rate, so we can improve user experience and recommend better content.**"
   ]
  },
  {
   "cell_type": "markdown",
   "id": "a4808fb3-1584-4770-8eef-35aa9278c286",
   "metadata": {},
   "source": [
    "# Important Libraries\n",
    "\n",
    "# 1.Pandas\n",
    "- pandas is used for to Data Manipulation and Data loading.\n",
    "- use import pandas as pd to import the library.\n",
    "\n",
    "# 2.Numpy\n",
    "- NumPy (Numerical Python) is a Python library used for fast mathematical operations, especially with numbers, arrays, and large datasets. It works closely with Pandas to perform efficient calculations.\n",
    "- use import numpy as np to import library.\n",
    "\n",
    "# 3.matplotlib\n",
    "- Matplotlib is a Python library used to create basic visualizations like line charts, bar graphs, pie charts, and scatter plots. It helps you see patterns in your data.\n",
    "- use import matplotlib.pyplot as plt to import this library.\n",
    "\n",
    "# 4.seaborn\n",
    "- seaborn is a Python library built on top of Matplotlib that makes it easier to create beautiful, informative, and advanced visualizations with less code. It works especially well with Pandas DataFrames.\n",
    "- use import seaborn as sns to import this library."
   ]
  },
  {
   "cell_type": "code",
   "execution_count": 4,
   "id": "a014ca9f-98f6-4f46-92fc-a207826b19bb",
   "metadata": {},
   "outputs": [],
   "source": [
    "import pandas as pd # data manipulation and data loading\n",
    "import numpy as np # statistical calculation\n",
    "import matplotlib.pyplot as plt # used for visulization\n",
    "import seaborn as sns  # advanced visulizations\n"
   ]
  },
  {
   "cell_type": "code",
   "execution_count": 5,
   "id": "a21996f2-1f65-4c3a-8195-010f9b5e8323",
   "metadata": {},
   "outputs": [],
   "source": [
    "# load dataset\n",
    "df=pd.read_csv(\"C:\\\\Users\\\\Abc\\\\Downloads\\\\streaming_watchtime_dataset.csv\")"
   ]
  },
  {
   "cell_type": "code",
   "execution_count": 6,
   "id": "202575ce-aa10-4842-b072-e17d7346b0b1",
   "metadata": {},
   "outputs": [
    {
     "data": {
      "text/html": [
       "<div>\n",
       "<style scoped>\n",
       "    .dataframe tbody tr th:only-of-type {\n",
       "        vertical-align: middle;\n",
       "    }\n",
       "\n",
       "    .dataframe tbody tr th {\n",
       "        vertical-align: top;\n",
       "    }\n",
       "\n",
       "    .dataframe thead th {\n",
       "        text-align: right;\n",
       "    }\n",
       "</style>\n",
       "<table border=\"1\" class=\"dataframe\">\n",
       "  <thead>\n",
       "    <tr style=\"text-align: right;\">\n",
       "      <th></th>\n",
       "      <th>user_id</th>\n",
       "      <th>platform</th>\n",
       "      <th>watch_time_minutes</th>\n",
       "      <th>genre</th>\n",
       "      <th>date</th>\n",
       "      <th>device</th>\n",
       "      <th>location</th>\n",
       "      <th>completion_rate</th>\n",
       "      <th>watch_category</th>\n",
       "    </tr>\n",
       "  </thead>\n",
       "  <tbody>\n",
       "    <tr>\n",
       "      <th>0</th>\n",
       "      <td>1ad167e9-7b33-4b9f-81a2-8d75c49e6f62</td>\n",
       "      <td>Netflix</td>\n",
       "      <td>76</td>\n",
       "      <td>Biography</td>\n",
       "      <td>2024-11-14</td>\n",
       "      <td>Gaming Console</td>\n",
       "      <td>Australia</td>\n",
       "      <td>0.82</td>\n",
       "      <td>Medium</td>\n",
       "    </tr>\n",
       "    <tr>\n",
       "      <th>1</th>\n",
       "      <td>53f210fd-3224-4ac8-8552-4d63651d865c</td>\n",
       "      <td>Zee5</td>\n",
       "      <td>197</td>\n",
       "      <td>History</td>\n",
       "      <td>2024-01-11</td>\n",
       "      <td>Desktop</td>\n",
       "      <td>India</td>\n",
       "      <td>0.63</td>\n",
       "      <td>Binge</td>\n",
       "    </tr>\n",
       "    <tr>\n",
       "      <th>2</th>\n",
       "      <td>45a7b275-a9ea-42c9-bbb1-de0609b543b4</td>\n",
       "      <td>Hotstar</td>\n",
       "      <td>115</td>\n",
       "      <td>Crime</td>\n",
       "      <td>2024-03-09</td>\n",
       "      <td>Set-top Box</td>\n",
       "      <td>Mexico</td>\n",
       "      <td>0.25</td>\n",
       "      <td>Long</td>\n",
       "    </tr>\n",
       "    <tr>\n",
       "      <th>3</th>\n",
       "      <td>f359885d-ed62-4964-a9cb-8e10e7b151a2</td>\n",
       "      <td>Prime Video</td>\n",
       "      <td>297</td>\n",
       "      <td>Sport</td>\n",
       "      <td>2024-07-10</td>\n",
       "      <td>Smart TV</td>\n",
       "      <td>UK</td>\n",
       "      <td>0.20</td>\n",
       "      <td>Binge</td>\n",
       "    </tr>\n",
       "    <tr>\n",
       "      <th>4</th>\n",
       "      <td>e4204e4b-e0cf-430d-a1e2-29f38c99372f</td>\n",
       "      <td>YouTube</td>\n",
       "      <td>281</td>\n",
       "      <td>Reality</td>\n",
       "      <td>2024-04-11</td>\n",
       "      <td>Desktop</td>\n",
       "      <td>Canada</td>\n",
       "      <td>0.95</td>\n",
       "      <td>Binge</td>\n",
       "    </tr>\n",
       "  </tbody>\n",
       "</table>\n",
       "</div>"
      ],
      "text/plain": [
       "                                user_id     platform  watch_time_minutes  \\\n",
       "0  1ad167e9-7b33-4b9f-81a2-8d75c49e6f62      Netflix                  76   \n",
       "1  53f210fd-3224-4ac8-8552-4d63651d865c         Zee5                 197   \n",
       "2  45a7b275-a9ea-42c9-bbb1-de0609b543b4      Hotstar                 115   \n",
       "3  f359885d-ed62-4964-a9cb-8e10e7b151a2  Prime Video                 297   \n",
       "4  e4204e4b-e0cf-430d-a1e2-29f38c99372f      YouTube                 281   \n",
       "\n",
       "       genre        date          device   location  completion_rate  \\\n",
       "0  Biography  2024-11-14  Gaming Console  Australia             0.82   \n",
       "1    History  2024-01-11         Desktop      India             0.63   \n",
       "2      Crime  2024-03-09     Set-top Box     Mexico             0.25   \n",
       "3      Sport  2024-07-10        Smart TV         UK             0.20   \n",
       "4    Reality  2024-04-11         Desktop     Canada             0.95   \n",
       "\n",
       "  watch_category  \n",
       "0         Medium  \n",
       "1          Binge  \n",
       "2           Long  \n",
       "3          Binge  \n",
       "4          Binge  "
      ]
     },
     "execution_count": 6,
     "metadata": {},
     "output_type": "execute_result"
    }
   ],
   "source": [
    "df.head() # getting first 5 rows"
   ]
  },
  {
   "cell_type": "code",
   "execution_count": 7,
   "id": "ff08eb9c-4185-4edf-a19d-8c0e8ad0e772",
   "metadata": {},
   "outputs": [
    {
     "data": {
      "text/html": [
       "<div>\n",
       "<style scoped>\n",
       "    .dataframe tbody tr th:only-of-type {\n",
       "        vertical-align: middle;\n",
       "    }\n",
       "\n",
       "    .dataframe tbody tr th {\n",
       "        vertical-align: top;\n",
       "    }\n",
       "\n",
       "    .dataframe thead th {\n",
       "        text-align: right;\n",
       "    }\n",
       "</style>\n",
       "<table border=\"1\" class=\"dataframe\">\n",
       "  <thead>\n",
       "    <tr style=\"text-align: right;\">\n",
       "      <th></th>\n",
       "      <th>user_id</th>\n",
       "      <th>platform</th>\n",
       "      <th>watch_time_minutes</th>\n",
       "      <th>genre</th>\n",
       "      <th>date</th>\n",
       "      <th>device</th>\n",
       "      <th>location</th>\n",
       "      <th>completion_rate</th>\n",
       "      <th>watch_category</th>\n",
       "    </tr>\n",
       "  </thead>\n",
       "  <tbody>\n",
       "    <tr>\n",
       "      <th>4995</th>\n",
       "      <td>9c5ca1f9-0ec4-4d16-b930-7a713e43b09e</td>\n",
       "      <td>Netflix</td>\n",
       "      <td>207</td>\n",
       "      <td>Thriller</td>\n",
       "      <td>2024-10-04</td>\n",
       "      <td>Set-top Box</td>\n",
       "      <td>Canada</td>\n",
       "      <td>0.33</td>\n",
       "      <td>Binge</td>\n",
       "    </tr>\n",
       "    <tr>\n",
       "      <th>4996</th>\n",
       "      <td>1f3cc1a9-94bb-4ae5-94cf-157c9a5be6f1</td>\n",
       "      <td>Zee5</td>\n",
       "      <td>291</td>\n",
       "      <td>History</td>\n",
       "      <td>2024-05-02</td>\n",
       "      <td>Gaming Console</td>\n",
       "      <td>UK</td>\n",
       "      <td>0.70</td>\n",
       "      <td>Binge</td>\n",
       "    </tr>\n",
       "    <tr>\n",
       "      <th>4997</th>\n",
       "      <td>e1698109-45ee-4063-97b4-067cfea972d9</td>\n",
       "      <td>Netflix</td>\n",
       "      <td>121</td>\n",
       "      <td>Reality</td>\n",
       "      <td>2025-03-13</td>\n",
       "      <td>Gaming Console</td>\n",
       "      <td>Japan</td>\n",
       "      <td>0.47</td>\n",
       "      <td>Long</td>\n",
       "    </tr>\n",
       "    <tr>\n",
       "      <th>4998</th>\n",
       "      <td>983fc789-6bbb-47be-9b11-a25b567a3767</td>\n",
       "      <td>Netflix</td>\n",
       "      <td>118</td>\n",
       "      <td>Action</td>\n",
       "      <td>2025-03-11</td>\n",
       "      <td>Tablet</td>\n",
       "      <td>Mexico</td>\n",
       "      <td>0.51</td>\n",
       "      <td>Long</td>\n",
       "    </tr>\n",
       "    <tr>\n",
       "      <th>4999</th>\n",
       "      <td>b46db4f0-a8a6-42e1-a14a-b29785f342d3</td>\n",
       "      <td>SonyLiv</td>\n",
       "      <td>78</td>\n",
       "      <td>Mystery</td>\n",
       "      <td>2025-01-18</td>\n",
       "      <td>Gaming Console</td>\n",
       "      <td>UAE</td>\n",
       "      <td>0.72</td>\n",
       "      <td>Medium</td>\n",
       "    </tr>\n",
       "  </tbody>\n",
       "</table>\n",
       "</div>"
      ],
      "text/plain": [
       "                                   user_id platform  watch_time_minutes  \\\n",
       "4995  9c5ca1f9-0ec4-4d16-b930-7a713e43b09e  Netflix                 207   \n",
       "4996  1f3cc1a9-94bb-4ae5-94cf-157c9a5be6f1     Zee5                 291   \n",
       "4997  e1698109-45ee-4063-97b4-067cfea972d9  Netflix                 121   \n",
       "4998  983fc789-6bbb-47be-9b11-a25b567a3767  Netflix                 118   \n",
       "4999  b46db4f0-a8a6-42e1-a14a-b29785f342d3  SonyLiv                  78   \n",
       "\n",
       "         genre        date          device location  completion_rate  \\\n",
       "4995  Thriller  2024-10-04     Set-top Box   Canada             0.33   \n",
       "4996   History  2024-05-02  Gaming Console       UK             0.70   \n",
       "4997   Reality  2025-03-13  Gaming Console    Japan             0.47   \n",
       "4998    Action  2025-03-11          Tablet   Mexico             0.51   \n",
       "4999   Mystery  2025-01-18  Gaming Console      UAE             0.72   \n",
       "\n",
       "     watch_category  \n",
       "4995          Binge  \n",
       "4996          Binge  \n",
       "4997           Long  \n",
       "4998           Long  \n",
       "4999         Medium  "
      ]
     },
     "execution_count": 7,
     "metadata": {},
     "output_type": "execute_result"
    }
   ],
   "source": [
    "df.tail() # getting last rows"
   ]
  },
  {
   "cell_type": "code",
   "execution_count": 8,
   "id": "93a6d17b-a081-4c2e-ae57-aa523617cf1b",
   "metadata": {},
   "outputs": [
    {
     "name": "stdout",
     "output_type": "stream",
     "text": [
      "<class 'pandas.core.frame.DataFrame'>\n",
      "RangeIndex: 5000 entries, 0 to 4999\n",
      "Data columns (total 9 columns):\n",
      " #   Column              Non-Null Count  Dtype  \n",
      "---  ------              --------------  -----  \n",
      " 0   user_id             5000 non-null   object \n",
      " 1   platform            5000 non-null   object \n",
      " 2   watch_time_minutes  5000 non-null   int64  \n",
      " 3   genre               5000 non-null   object \n",
      " 4   date                5000 non-null   object \n",
      " 5   device              5000 non-null   object \n",
      " 6   location            5000 non-null   object \n",
      " 7   completion_rate     5000 non-null   float64\n",
      " 8   watch_category      5000 non-null   object \n",
      "dtypes: float64(1), int64(1), object(7)\n",
      "memory usage: 351.7+ KB\n"
     ]
    }
   ],
   "source": [
    "df.info() # to get information about data(NaN values,Datatypes etc)"
   ]
  },
  {
   "cell_type": "markdown",
   "id": "b5aced5b-c526-4dbb-8c85-c5e33808a195",
   "metadata": {},
   "source": [
    "- There are missing values are present in dataset.\n",
    "- The 'user_id','platform','genre','date','device','location' and 'watch_category' having object data type.\n",
    "- 'watch_time_minutes' is integer data type.\n",
    "- 'completion_rate' column have float data type."
   ]
  },
  {
   "cell_type": "code",
   "execution_count": 10,
   "id": "70ecdf4c-a19b-467d-ae23-4461715f96bb",
   "metadata": {},
   "outputs": [
    {
     "data": {
      "text/html": [
       "<div>\n",
       "<style scoped>\n",
       "    .dataframe tbody tr th:only-of-type {\n",
       "        vertical-align: middle;\n",
       "    }\n",
       "\n",
       "    .dataframe tbody tr th {\n",
       "        vertical-align: top;\n",
       "    }\n",
       "\n",
       "    .dataframe thead th {\n",
       "        text-align: right;\n",
       "    }\n",
       "</style>\n",
       "<table border=\"1\" class=\"dataframe\">\n",
       "  <thead>\n",
       "    <tr style=\"text-align: right;\">\n",
       "      <th></th>\n",
       "      <th>watch_time_minutes</th>\n",
       "      <th>completion_rate</th>\n",
       "    </tr>\n",
       "  </thead>\n",
       "  <tbody>\n",
       "    <tr>\n",
       "      <th>count</th>\n",
       "      <td>5000.000000</td>\n",
       "      <td>5000.000000</td>\n",
       "    </tr>\n",
       "    <tr>\n",
       "      <th>mean</th>\n",
       "      <td>149.059400</td>\n",
       "      <td>0.597190</td>\n",
       "    </tr>\n",
       "    <tr>\n",
       "      <th>std</th>\n",
       "      <td>85.214425</td>\n",
       "      <td>0.230855</td>\n",
       "    </tr>\n",
       "    <tr>\n",
       "      <th>min</th>\n",
       "      <td>5.000000</td>\n",
       "      <td>0.200000</td>\n",
       "    </tr>\n",
       "    <tr>\n",
       "      <th>25%</th>\n",
       "      <td>75.000000</td>\n",
       "      <td>0.390000</td>\n",
       "    </tr>\n",
       "    <tr>\n",
       "      <th>50%</th>\n",
       "      <td>149.000000</td>\n",
       "      <td>0.590000</td>\n",
       "    </tr>\n",
       "    <tr>\n",
       "      <th>75%</th>\n",
       "      <td>224.000000</td>\n",
       "      <td>0.800000</td>\n",
       "    </tr>\n",
       "    <tr>\n",
       "      <th>max</th>\n",
       "      <td>299.000000</td>\n",
       "      <td>1.000000</td>\n",
       "    </tr>\n",
       "  </tbody>\n",
       "</table>\n",
       "</div>"
      ],
      "text/plain": [
       "       watch_time_minutes  completion_rate\n",
       "count         5000.000000      5000.000000\n",
       "mean           149.059400         0.597190\n",
       "std             85.214425         0.230855\n",
       "min              5.000000         0.200000\n",
       "25%             75.000000         0.390000\n",
       "50%            149.000000         0.590000\n",
       "75%            224.000000         0.800000\n",
       "max            299.000000         1.000000"
      ]
     },
     "execution_count": 10,
     "metadata": {},
     "output_type": "execute_result"
    }
   ],
   "source": [
    "df.describe() # get summary of statistical data"
   ]
  },
  {
   "cell_type": "markdown",
   "id": "7a72a0e2-19cb-4d96-9b48-ec2d8c149bc3",
   "metadata": {},
   "source": [
    "**1.watch_time_minutes**\n",
    "- **count** : The total count of this column is 5000,i.e there is no missing values are present.\n",
    "- **mean** : The mean/total average is 149.05 ,i.e the total average around is 149.\n",
    "- **std** : The standard deviation is 85.21 which is less than average/mean.\n",
    "- **min** : The minimum watch time is 5 min.\n",
    "- **25 % (Q1)**: The 25 % value is 75 that show the values below the 25 % of the data fall.\n",
    "- **50 % (median)**: The middle value of this column is 149.\n",
    "- **75 % (Q3)** : 75 % of the 224 is greater than Q1 and mean.\n",
    "- **max** : The maximum watching time is 299 min.\n",
    "\n",
    "**2.completion_rate**\n",
    "- **count** : The total count of this column is 5000,i.e there is no missing values are present.\n",
    "- **mean** : The mean/total average is 0.59.\n",
    "- **std** : The standard deviation is 0.23 which is less than average/mean.\n",
    "- **min** : The lowest completion rate is 0.20.\n",
    "- **25 % (Q1)**: The 25 % value is 0.39 that show the values below the 25 % of the data fall.\n",
    "- **50 % (median)**: The middle value of this column is 0.59.\n",
    "- **75 % (Q3)** : 75 % of the 0.80 is greater than Q1 and mean.\n",
    "- **max** : The maximum completion rate is 1.\n"
   ]
  },
  {
   "cell_type": "code",
   "execution_count": 12,
   "id": "ee58e819-bf61-4b07-a5e5-e12ea16a6196",
   "metadata": {},
   "outputs": [
    {
     "data": {
      "text/html": [
       "<div>\n",
       "<style scoped>\n",
       "    .dataframe tbody tr th:only-of-type {\n",
       "        vertical-align: middle;\n",
       "    }\n",
       "\n",
       "    .dataframe tbody tr th {\n",
       "        vertical-align: top;\n",
       "    }\n",
       "\n",
       "    .dataframe thead th {\n",
       "        text-align: right;\n",
       "    }\n",
       "</style>\n",
       "<table border=\"1\" class=\"dataframe\">\n",
       "  <thead>\n",
       "    <tr style=\"text-align: right;\">\n",
       "      <th></th>\n",
       "      <th>user_id</th>\n",
       "      <th>platform</th>\n",
       "      <th>watch_time_minutes</th>\n",
       "      <th>genre</th>\n",
       "      <th>date</th>\n",
       "      <th>device</th>\n",
       "      <th>location</th>\n",
       "      <th>completion_rate</th>\n",
       "      <th>watch_category</th>\n",
       "    </tr>\n",
       "  </thead>\n",
       "  <tbody>\n",
       "    <tr>\n",
       "      <th>count</th>\n",
       "      <td>5000</td>\n",
       "      <td>5000</td>\n",
       "      <td>5000.000000</td>\n",
       "      <td>5000</td>\n",
       "      <td>5000</td>\n",
       "      <td>5000</td>\n",
       "      <td>5000</td>\n",
       "      <td>5000.000000</td>\n",
       "      <td>5000</td>\n",
       "    </tr>\n",
       "    <tr>\n",
       "      <th>unique</th>\n",
       "      <td>5000</td>\n",
       "      <td>6</td>\n",
       "      <td>NaN</td>\n",
       "      <td>19</td>\n",
       "      <td>456</td>\n",
       "      <td>6</td>\n",
       "      <td>15</td>\n",
       "      <td>NaN</td>\n",
       "      <td>4</td>\n",
       "    </tr>\n",
       "    <tr>\n",
       "      <th>top</th>\n",
       "      <td>1ad167e9-7b33-4b9f-81a2-8d75c49e6f62</td>\n",
       "      <td>Zee5</td>\n",
       "      <td>NaN</td>\n",
       "      <td>Horror</td>\n",
       "      <td>2025-03-17</td>\n",
       "      <td>Smart TV</td>\n",
       "      <td>UK</td>\n",
       "      <td>NaN</td>\n",
       "      <td>Binge</td>\n",
       "    </tr>\n",
       "    <tr>\n",
       "      <th>freq</th>\n",
       "      <td>1</td>\n",
       "      <td>917</td>\n",
       "      <td>NaN</td>\n",
       "      <td>302</td>\n",
       "      <td>24</td>\n",
       "      <td>870</td>\n",
       "      <td>361</td>\n",
       "      <td>NaN</td>\n",
       "      <td>1955</td>\n",
       "    </tr>\n",
       "    <tr>\n",
       "      <th>mean</th>\n",
       "      <td>NaN</td>\n",
       "      <td>NaN</td>\n",
       "      <td>149.059400</td>\n",
       "      <td>NaN</td>\n",
       "      <td>NaN</td>\n",
       "      <td>NaN</td>\n",
       "      <td>NaN</td>\n",
       "      <td>0.597190</td>\n",
       "      <td>NaN</td>\n",
       "    </tr>\n",
       "    <tr>\n",
       "      <th>std</th>\n",
       "      <td>NaN</td>\n",
       "      <td>NaN</td>\n",
       "      <td>85.214425</td>\n",
       "      <td>NaN</td>\n",
       "      <td>NaN</td>\n",
       "      <td>NaN</td>\n",
       "      <td>NaN</td>\n",
       "      <td>0.230855</td>\n",
       "      <td>NaN</td>\n",
       "    </tr>\n",
       "    <tr>\n",
       "      <th>min</th>\n",
       "      <td>NaN</td>\n",
       "      <td>NaN</td>\n",
       "      <td>5.000000</td>\n",
       "      <td>NaN</td>\n",
       "      <td>NaN</td>\n",
       "      <td>NaN</td>\n",
       "      <td>NaN</td>\n",
       "      <td>0.200000</td>\n",
       "      <td>NaN</td>\n",
       "    </tr>\n",
       "    <tr>\n",
       "      <th>25%</th>\n",
       "      <td>NaN</td>\n",
       "      <td>NaN</td>\n",
       "      <td>75.000000</td>\n",
       "      <td>NaN</td>\n",
       "      <td>NaN</td>\n",
       "      <td>NaN</td>\n",
       "      <td>NaN</td>\n",
       "      <td>0.390000</td>\n",
       "      <td>NaN</td>\n",
       "    </tr>\n",
       "    <tr>\n",
       "      <th>50%</th>\n",
       "      <td>NaN</td>\n",
       "      <td>NaN</td>\n",
       "      <td>149.000000</td>\n",
       "      <td>NaN</td>\n",
       "      <td>NaN</td>\n",
       "      <td>NaN</td>\n",
       "      <td>NaN</td>\n",
       "      <td>0.590000</td>\n",
       "      <td>NaN</td>\n",
       "    </tr>\n",
       "    <tr>\n",
       "      <th>75%</th>\n",
       "      <td>NaN</td>\n",
       "      <td>NaN</td>\n",
       "      <td>224.000000</td>\n",
       "      <td>NaN</td>\n",
       "      <td>NaN</td>\n",
       "      <td>NaN</td>\n",
       "      <td>NaN</td>\n",
       "      <td>0.800000</td>\n",
       "      <td>NaN</td>\n",
       "    </tr>\n",
       "    <tr>\n",
       "      <th>max</th>\n",
       "      <td>NaN</td>\n",
       "      <td>NaN</td>\n",
       "      <td>299.000000</td>\n",
       "      <td>NaN</td>\n",
       "      <td>NaN</td>\n",
       "      <td>NaN</td>\n",
       "      <td>NaN</td>\n",
       "      <td>1.000000</td>\n",
       "      <td>NaN</td>\n",
       "    </tr>\n",
       "  </tbody>\n",
       "</table>\n",
       "</div>"
      ],
      "text/plain": [
       "                                     user_id platform  watch_time_minutes  \\\n",
       "count                                   5000     5000         5000.000000   \n",
       "unique                                  5000        6                 NaN   \n",
       "top     1ad167e9-7b33-4b9f-81a2-8d75c49e6f62     Zee5                 NaN   \n",
       "freq                                       1      917                 NaN   \n",
       "mean                                     NaN      NaN          149.059400   \n",
       "std                                      NaN      NaN           85.214425   \n",
       "min                                      NaN      NaN            5.000000   \n",
       "25%                                      NaN      NaN           75.000000   \n",
       "50%                                      NaN      NaN          149.000000   \n",
       "75%                                      NaN      NaN          224.000000   \n",
       "max                                      NaN      NaN          299.000000   \n",
       "\n",
       "         genre        date    device location  completion_rate watch_category  \n",
       "count     5000        5000      5000     5000      5000.000000           5000  \n",
       "unique      19         456         6       15              NaN              4  \n",
       "top     Horror  2025-03-17  Smart TV       UK              NaN          Binge  \n",
       "freq       302          24       870      361              NaN           1955  \n",
       "mean       NaN         NaN       NaN      NaN         0.597190            NaN  \n",
       "std        NaN         NaN       NaN      NaN         0.230855            NaN  \n",
       "min        NaN         NaN       NaN      NaN         0.200000            NaN  \n",
       "25%        NaN         NaN       NaN      NaN         0.390000            NaN  \n",
       "50%        NaN         NaN       NaN      NaN         0.590000            NaN  \n",
       "75%        NaN         NaN       NaN      NaN         0.800000            NaN  \n",
       "max        NaN         NaN       NaN      NaN         1.000000            NaN  "
      ]
     },
     "execution_count": 12,
     "metadata": {},
     "output_type": "execute_result"
    }
   ],
   "source": [
    "df.describe(include='all') # to get summary of both statistical as well as categorical data"
   ]
  },
  {
   "cell_type": "markdown",
   "id": "0e41810a-4b9f-49ae-abdc-0f2fcd2dd818",
   "metadata": {},
   "source": [
    "**1.platform**\n",
    "- **count** : The total platform is 5000.\n",
    "- **unique** : There are 6 unique platform are present.\n",
    "- **top** : The top most / popular platform is Zee5.\n",
    "- **freq** : The Zee5 this platform are repeated 917 times.\n",
    "\n",
    "**2.genre**\n",
    "- **count** : The total count of genre is 5000.\n",
    "- **unique** : There are 19 unique genres are present.\n",
    "- **top** : The top most / popular genre is Horror.\n",
    "- **freq** : The Horror genre are 302 times are repeated.\n",
    "\n",
    "**3.date**\n",
    "- **count** : The total dates are  5000.\n",
    "- **unique** : There are 456 unique dates are available.\n",
    "- **top** : The top most / popular date  is 2025-03-17.\n",
    "- **freq** : This date is 24 times are repeated.\n",
    "\n",
    "**4.device**\n",
    "- **count** : The total count of devices are  5000.\n",
    "- **unique** : There are 6 unique devices are available.\n",
    "- **top** : The top most / popular device  is Smart TV.\n",
    "- **freq** : Smart TV is 870 times are repeated.\n",
    "\n",
    "**5.location**\n",
    "- **count** : The total locations  are  5000.\n",
    "- **unique** : There are 15 unique locations are available.\n",
    "- **top** : The top most location is UK.\n",
    "- **freq** : The UK is 361 times are repeated.\n",
    "\n",
    "**6.watch_category**\n",
    "- **count** : The total count of watch category are 5000.\n",
    "- **unique** : There are 4 unique watch category are present.\n",
    "- **top** : The top most watch category is Bingee.\n",
    "- **freq** : The Bingee this category is 1955 times are repeated.\n",
    " \n",
    "\n"
   ]
  },
  {
   "cell_type": "code",
   "execution_count": 14,
   "id": "d95e33ad-ec3d-43ac-bccf-41b1f3840c73",
   "metadata": {},
   "outputs": [
    {
     "data": {
      "text/plain": [
       "(5000, 9)"
      ]
     },
     "execution_count": 14,
     "metadata": {},
     "output_type": "execute_result"
    }
   ],
   "source": [
    "df.shape # it return number of rows and column"
   ]
  },
  {
   "cell_type": "markdown",
   "id": "9e81a89d-70f0-4e44-acdd-6f2ae15d7e1d",
   "metadata": {},
   "source": [
    "- There are 5000 rows and 9 columns are present."
   ]
  },
  {
   "cell_type": "code",
   "execution_count": 16,
   "id": "8f42af54-5991-4336-9ca0-d06a17c79a01",
   "metadata": {},
   "outputs": [
    {
     "data": {
      "text/plain": [
       "user_id               0\n",
       "platform              0\n",
       "watch_time_minutes    0\n",
       "genre                 0\n",
       "date                  0\n",
       "device                0\n",
       "location              0\n",
       "completion_rate       0\n",
       "watch_category        0\n",
       "dtype: int64"
      ]
     },
     "execution_count": 16,
     "metadata": {},
     "output_type": "execute_result"
    }
   ],
   "source": [
    "df.isnull().sum() # check missing values"
   ]
  },
  {
   "cell_type": "markdown",
   "id": "15074aa4-c9ff-4092-b088-295e6292c85a",
   "metadata": {},
   "source": [
    "- The data set don't have any missing values."
   ]
  },
  {
   "cell_type": "code",
   "execution_count": 18,
   "id": "e5f82678-7499-4e20-86cb-bab09e5df733",
   "metadata": {},
   "outputs": [
    {
     "data": {
      "text/plain": [
       "0"
      ]
     },
     "execution_count": 18,
     "metadata": {},
     "output_type": "execute_result"
    }
   ],
   "source": [
    "df.duplicated().sum() # check duplicates"
   ]
  },
  {
   "cell_type": "markdown",
   "id": "3b7a4be2-7f15-4f96-8b75-f5e17cde6530",
   "metadata": {},
   "source": [
    "- There is no duplicates values are available."
   ]
  },
  {
   "cell_type": "code",
   "execution_count": 20,
   "id": "f5bfe39c-cc7d-4fcb-a17c-6d3efe06e519",
   "metadata": {},
   "outputs": [
    {
     "data": {
      "text/plain": [
       "user_id               5000\n",
       "platform                 6\n",
       "watch_time_minutes     295\n",
       "genre                   19\n",
       "date                   456\n",
       "device                   6\n",
       "location                15\n",
       "completion_rate         81\n",
       "watch_category           4\n",
       "dtype: int64"
      ]
     },
     "execution_count": 20,
     "metadata": {},
     "output_type": "execute_result"
    }
   ],
   "source": [
    "df.nunique() # check unique values"
   ]
  },
  {
   "cell_type": "markdown",
   "id": "3b2240f4-5efb-4413-8357-345af9e347de",
   "metadata": {},
   "source": [
    "- **user_id** : **5000** unique user_id is present.\n",
    "- **platform**  : There are **6** unique platforms are present.\n",
    "- **watch_time_min** : There are **295** unique values are present.\n",
    "- **genre** : There are **19** unique genres are present.\n",
    "- **date** : **456** unique dates are available.\n",
    "- **device** : There are **6** unique devices are present.\n",
    "- **location** : **15** unique locations are present.\n",
    "- **completeion_rate** : **81** unique rate are present.\n",
    "- **watch_category** : **4** unique watch category are available."
   ]
  },
  {
   "cell_type": "code",
   "execution_count": 22,
   "id": "e362e600-8027-4656-8527-1faefe312c58",
   "metadata": {},
   "outputs": [
    {
     "data": {
      "text/plain": [
       "array(['Biography', 'History', 'Crime', 'Sport', 'Reality', 'Action',\n",
       "       'Romance', 'Documentary', 'Drama', 'Family', 'Animation',\n",
       "       'Thriller', 'Adventure', 'Fantasy', 'Horror', 'Mystery', 'Comedy',\n",
       "       'Sci-Fi', 'Music'], dtype=object)"
      ]
     },
     "execution_count": 22,
     "metadata": {},
     "output_type": "execute_result"
    }
   ],
   "source": [
    "df['genre'].unique() # check unique values in genres column"
   ]
  },
  {
   "cell_type": "code",
   "execution_count": 23,
   "id": "5351612b-5a57-43ee-aa53-3293408bf09e",
   "metadata": {},
   "outputs": [
    {
     "data": {
      "text/plain": [
       "array(['Medium', 'Binge', 'Long', 'Short'], dtype=object)"
      ]
     },
     "execution_count": 23,
     "metadata": {},
     "output_type": "execute_result"
    }
   ],
   "source": [
    "df['watch_category'].unique() # check unique values in watch_category column"
   ]
  },
  {
   "cell_type": "code",
   "execution_count": 24,
   "id": "b05b4c24-83df-4ac0-a25e-fd09d7b129c4",
   "metadata": {},
   "outputs": [
    {
     "data": {
      "text/plain": [
       "array(['Australia', 'India', 'Mexico', 'UK', 'Canada', 'Germany',\n",
       "       'France', 'Brazil', 'Italy', 'South Korea', 'Japan', 'UAE', 'USA',\n",
       "       'South Africa', 'Spain'], dtype=object)"
      ]
     },
     "execution_count": 24,
     "metadata": {},
     "output_type": "execute_result"
    }
   ],
   "source": [
    "df['location'].unique() # check unique values in location column"
   ]
  },
  {
   "cell_type": "code",
   "execution_count": 25,
   "id": "e83ea8e0-c13e-45d4-9424-933b5c25c016",
   "metadata": {},
   "outputs": [
    {
     "data": {
      "text/plain": [
       "array(['Gaming Console', 'Desktop', 'Set-top Box', 'Smart TV', 'Mobile',\n",
       "       'Tablet'], dtype=object)"
      ]
     },
     "execution_count": 25,
     "metadata": {},
     "output_type": "execute_result"
    }
   ],
   "source": [
    "df['device'].unique() # check unique values in device columns"
   ]
  },
  {
   "cell_type": "code",
   "execution_count": 26,
   "id": "427ff338-dc6a-4351-a7ea-2b2429563b24",
   "metadata": {},
   "outputs": [
    {
     "data": {
      "text/plain": [
       "5882"
      ]
     },
     "execution_count": 26,
     "metadata": {},
     "output_type": "execute_result"
    }
   ],
   "source": [
    "df.nunique().sum()"
   ]
  },
  {
   "cell_type": "markdown",
   "id": "f9c78b5a-5bc8-4ea0-b428-15f31c7f56ba",
   "metadata": {},
   "source": [
    "- There are  total 5882 unique values are present in our dataset."
   ]
  },
  {
   "cell_type": "code",
   "execution_count": 28,
   "id": "115f586b-d0c5-48a4-b2b8-eeb6d18bf2e7",
   "metadata": {},
   "outputs": [],
   "source": [
    "# to convert the date into datetime errors=coerce for to convert forcefully \n",
    "df['date']=pd.to_datetime(df['date'],errors='coerce') "
   ]
  },
  {
   "cell_type": "code",
   "execution_count": 29,
   "id": "afa8bd45-b7d4-4a89-8cd8-9f605bec1d87",
   "metadata": {},
   "outputs": [
    {
     "name": "stdout",
     "output_type": "stream",
     "text": [
      "<class 'pandas.core.frame.DataFrame'>\n",
      "RangeIndex: 5000 entries, 0 to 4999\n",
      "Data columns (total 9 columns):\n",
      " #   Column              Non-Null Count  Dtype         \n",
      "---  ------              --------------  -----         \n",
      " 0   user_id             5000 non-null   object        \n",
      " 1   platform            5000 non-null   object        \n",
      " 2   watch_time_minutes  5000 non-null   int64         \n",
      " 3   genre               5000 non-null   object        \n",
      " 4   date                5000 non-null   datetime64[ns]\n",
      " 5   device              5000 non-null   object        \n",
      " 6   location            5000 non-null   object        \n",
      " 7   completion_rate     5000 non-null   float64       \n",
      " 8   watch_category      5000 non-null   object        \n",
      "dtypes: datetime64[ns](1), float64(1), int64(1), object(6)\n",
      "memory usage: 351.7+ KB\n"
     ]
    }
   ],
   "source": [
    "df.info() # check dtype after the coverting date to datetime."
   ]
  },
  {
   "cell_type": "code",
   "execution_count": 30,
   "id": "010b65f3-373a-4f1a-b328-c3fad423dfcb",
   "metadata": {},
   "outputs": [
    {
     "data": {
      "text/plain": [
       "Index(['user_id', 'platform', 'watch_time_minutes', 'genre', 'date', 'device',\n",
       "       'location', 'completion_rate', 'watch_category'],\n",
       "      dtype='object')"
      ]
     },
     "execution_count": 30,
     "metadata": {},
     "output_type": "execute_result"
    }
   ],
   "source": [
    "# get columns name\n",
    "df.columns"
   ]
  },
  {
   "cell_type": "code",
   "execution_count": 31,
   "id": "d1a0a6a0-0b46-49d0-9650-cc5604863015",
   "metadata": {},
   "outputs": [],
   "source": [
    "# remove user_id column is not necessary\n",
    "df.drop('user_id',axis=1,inplace=True) "
   ]
  },
  {
   "cell_type": "code",
   "execution_count": 32,
   "id": "08c1519c-9fcd-4d41-9b0a-6d5f2f247623",
   "metadata": {},
   "outputs": [
    {
     "data": {
      "text/plain": [
       "Index(['platform', 'watch_time_minutes', 'genre', 'date', 'device', 'location',\n",
       "       'completion_rate', 'watch_category'],\n",
       "      dtype='object')"
      ]
     },
     "execution_count": 32,
     "metadata": {},
     "output_type": "execute_result"
    }
   ],
   "source": [
    "df.columns # check columns after deleting one column"
   ]
  },
  {
   "cell_type": "code",
   "execution_count": 33,
   "id": "9f1525d3-e313-4736-9252-dbbab3a8d335",
   "metadata": {},
   "outputs": [
    {
     "data": {
      "text/plain": [
       "genre\n",
       "Horror         302\n",
       "Animation      282\n",
       "Thriller       276\n",
       "Sci-Fi         274\n",
       "Crime          268\n",
       "Romance        268\n",
       "History        267\n",
       "Family         266\n",
       "Fantasy        266\n",
       "Mystery        264\n",
       "Documentary    262\n",
       "Drama          260\n",
       "Comedy         259\n",
       "Adventure      254\n",
       "Biography      253\n",
       "Music          249\n",
       "Sport          248\n",
       "Reality        246\n",
       "Action         236\n",
       "Name: count, dtype: int64"
      ]
     },
     "execution_count": 33,
     "metadata": {},
     "output_type": "execute_result"
    }
   ],
   "source": [
    "df['genre'].value_counts() # total count of every genres"
   ]
  },
  {
   "cell_type": "code",
   "execution_count": 34,
   "id": "271e81ef-f5ed-44e6-9197-f2659f114216",
   "metadata": {},
   "outputs": [
    {
     "data": {
      "text/html": [
       "<div>\n",
       "<style scoped>\n",
       "    .dataframe tbody tr th:only-of-type {\n",
       "        vertical-align: middle;\n",
       "    }\n",
       "\n",
       "    .dataframe tbody tr th {\n",
       "        vertical-align: top;\n",
       "    }\n",
       "\n",
       "    .dataframe thead th {\n",
       "        text-align: right;\n",
       "    }\n",
       "</style>\n",
       "<table border=\"1\" class=\"dataframe\">\n",
       "  <thead>\n",
       "    <tr style=\"text-align: right;\">\n",
       "      <th></th>\n",
       "      <th>platform</th>\n",
       "      <th>watch_time_minutes</th>\n",
       "      <th>genre</th>\n",
       "      <th>date</th>\n",
       "      <th>device</th>\n",
       "      <th>location</th>\n",
       "      <th>completion_rate</th>\n",
       "      <th>watch_category</th>\n",
       "    </tr>\n",
       "  </thead>\n",
       "  <tbody>\n",
       "    <tr>\n",
       "      <th>10</th>\n",
       "      <td>Zee5</td>\n",
       "      <td>118</td>\n",
       "      <td>Family</td>\n",
       "      <td>2024-02-23</td>\n",
       "      <td>Desktop</td>\n",
       "      <td>Germany</td>\n",
       "      <td>0.69</td>\n",
       "      <td>Long</td>\n",
       "    </tr>\n",
       "    <tr>\n",
       "      <th>37</th>\n",
       "      <td>Netflix</td>\n",
       "      <td>112</td>\n",
       "      <td>Family</td>\n",
       "      <td>2024-04-26</td>\n",
       "      <td>Gaming Console</td>\n",
       "      <td>Germany</td>\n",
       "      <td>0.39</td>\n",
       "      <td>Long</td>\n",
       "    </tr>\n",
       "    <tr>\n",
       "      <th>55</th>\n",
       "      <td>Zee5</td>\n",
       "      <td>242</td>\n",
       "      <td>Family</td>\n",
       "      <td>2024-11-10</td>\n",
       "      <td>Mobile</td>\n",
       "      <td>Spain</td>\n",
       "      <td>0.34</td>\n",
       "      <td>Binge</td>\n",
       "    </tr>\n",
       "    <tr>\n",
       "      <th>56</th>\n",
       "      <td>Netflix</td>\n",
       "      <td>282</td>\n",
       "      <td>Family</td>\n",
       "      <td>2024-02-14</td>\n",
       "      <td>Desktop</td>\n",
       "      <td>UAE</td>\n",
       "      <td>0.32</td>\n",
       "      <td>Binge</td>\n",
       "    </tr>\n",
       "    <tr>\n",
       "      <th>98</th>\n",
       "      <td>Prime Video</td>\n",
       "      <td>93</td>\n",
       "      <td>Family</td>\n",
       "      <td>2024-03-27</td>\n",
       "      <td>Smart TV</td>\n",
       "      <td>Japan</td>\n",
       "      <td>0.34</td>\n",
       "      <td>Long</td>\n",
       "    </tr>\n",
       "    <tr>\n",
       "      <th>...</th>\n",
       "      <td>...</td>\n",
       "      <td>...</td>\n",
       "      <td>...</td>\n",
       "      <td>...</td>\n",
       "      <td>...</td>\n",
       "      <td>...</td>\n",
       "      <td>...</td>\n",
       "      <td>...</td>\n",
       "    </tr>\n",
       "    <tr>\n",
       "      <th>4843</th>\n",
       "      <td>SonyLiv</td>\n",
       "      <td>224</td>\n",
       "      <td>Family</td>\n",
       "      <td>2024-08-31</td>\n",
       "      <td>Desktop</td>\n",
       "      <td>UAE</td>\n",
       "      <td>0.87</td>\n",
       "      <td>Binge</td>\n",
       "    </tr>\n",
       "    <tr>\n",
       "      <th>4918</th>\n",
       "      <td>YouTube</td>\n",
       "      <td>26</td>\n",
       "      <td>Family</td>\n",
       "      <td>2025-02-11</td>\n",
       "      <td>Mobile</td>\n",
       "      <td>Canada</td>\n",
       "      <td>0.63</td>\n",
       "      <td>Short</td>\n",
       "    </tr>\n",
       "    <tr>\n",
       "      <th>4932</th>\n",
       "      <td>Netflix</td>\n",
       "      <td>52</td>\n",
       "      <td>Family</td>\n",
       "      <td>2024-02-18</td>\n",
       "      <td>Smart TV</td>\n",
       "      <td>Brazil</td>\n",
       "      <td>0.53</td>\n",
       "      <td>Medium</td>\n",
       "    </tr>\n",
       "    <tr>\n",
       "      <th>4962</th>\n",
       "      <td>Hotstar</td>\n",
       "      <td>60</td>\n",
       "      <td>Family</td>\n",
       "      <td>2024-10-20</td>\n",
       "      <td>Mobile</td>\n",
       "      <td>South Korea</td>\n",
       "      <td>0.57</td>\n",
       "      <td>Medium</td>\n",
       "    </tr>\n",
       "    <tr>\n",
       "      <th>4968</th>\n",
       "      <td>SonyLiv</td>\n",
       "      <td>52</td>\n",
       "      <td>Family</td>\n",
       "      <td>2024-08-12</td>\n",
       "      <td>Tablet</td>\n",
       "      <td>South Korea</td>\n",
       "      <td>0.57</td>\n",
       "      <td>Medium</td>\n",
       "    </tr>\n",
       "  </tbody>\n",
       "</table>\n",
       "<p>266 rows × 8 columns</p>\n",
       "</div>"
      ],
      "text/plain": [
       "         platform  watch_time_minutes   genre       date          device  \\\n",
       "10           Zee5                 118  Family 2024-02-23         Desktop   \n",
       "37        Netflix                 112  Family 2024-04-26  Gaming Console   \n",
       "55           Zee5                 242  Family 2024-11-10          Mobile   \n",
       "56        Netflix                 282  Family 2024-02-14         Desktop   \n",
       "98    Prime Video                  93  Family 2024-03-27        Smart TV   \n",
       "...           ...                 ...     ...        ...             ...   \n",
       "4843      SonyLiv                 224  Family 2024-08-31         Desktop   \n",
       "4918      YouTube                  26  Family 2025-02-11          Mobile   \n",
       "4932      Netflix                  52  Family 2024-02-18        Smart TV   \n",
       "4962      Hotstar                  60  Family 2024-10-20          Mobile   \n",
       "4968      SonyLiv                  52  Family 2024-08-12          Tablet   \n",
       "\n",
       "         location  completion_rate watch_category  \n",
       "10        Germany             0.69           Long  \n",
       "37        Germany             0.39           Long  \n",
       "55          Spain             0.34          Binge  \n",
       "56            UAE             0.32          Binge  \n",
       "98          Japan             0.34           Long  \n",
       "...           ...              ...            ...  \n",
       "4843          UAE             0.87          Binge  \n",
       "4918       Canada             0.63          Short  \n",
       "4932       Brazil             0.53         Medium  \n",
       "4962  South Korea             0.57         Medium  \n",
       "4968  South Korea             0.57         Medium  \n",
       "\n",
       "[266 rows x 8 columns]"
      ]
     },
     "execution_count": 34,
     "metadata": {},
     "output_type": "execute_result"
    }
   ],
   "source": [
    "# shows the all record whose genres are family\n",
    "df[df['genre']=='Family'] "
   ]
  },
  {
   "cell_type": "code",
   "execution_count": 139,
   "id": "0d195149-9181-48ef-830f-48ac7eef92bd",
   "metadata": {},
   "outputs": [
    {
     "data": {
      "text/html": [
       "<div>\n",
       "<style scoped>\n",
       "    .dataframe tbody tr th:only-of-type {\n",
       "        vertical-align: middle;\n",
       "    }\n",
       "\n",
       "    .dataframe tbody tr th {\n",
       "        vertical-align: top;\n",
       "    }\n",
       "\n",
       "    .dataframe thead th {\n",
       "        text-align: right;\n",
       "    }\n",
       "</style>\n",
       "<table border=\"1\" class=\"dataframe\">\n",
       "  <thead>\n",
       "    <tr style=\"text-align: right;\">\n",
       "      <th></th>\n",
       "      <th>platform</th>\n",
       "      <th>watch_time_minutes</th>\n",
       "      <th>genre</th>\n",
       "      <th>date</th>\n",
       "      <th>device</th>\n",
       "      <th>location</th>\n",
       "      <th>completion_rate</th>\n",
       "      <th>watch_category</th>\n",
       "      <th>Year</th>\n",
       "    </tr>\n",
       "  </thead>\n",
       "  <tbody>\n",
       "    <tr>\n",
       "      <th>19</th>\n",
       "      <td>Netflix</td>\n",
       "      <td>86</td>\n",
       "      <td>Horror</td>\n",
       "      <td>2024-11-18</td>\n",
       "      <td>Set-top Box</td>\n",
       "      <td>Australia</td>\n",
       "      <td>0.81</td>\n",
       "      <td>Medium</td>\n",
       "      <td>2024</td>\n",
       "    </tr>\n",
       "    <tr>\n",
       "      <th>22</th>\n",
       "      <td>Hotstar</td>\n",
       "      <td>73</td>\n",
       "      <td>Horror</td>\n",
       "      <td>2024-02-11</td>\n",
       "      <td>Set-top Box</td>\n",
       "      <td>UAE</td>\n",
       "      <td>0.72</td>\n",
       "      <td>Medium</td>\n",
       "      <td>2024</td>\n",
       "    </tr>\n",
       "    <tr>\n",
       "      <th>29</th>\n",
       "      <td>Netflix</td>\n",
       "      <td>259</td>\n",
       "      <td>Horror</td>\n",
       "      <td>2024-10-10</td>\n",
       "      <td>Smart TV</td>\n",
       "      <td>India</td>\n",
       "      <td>0.65</td>\n",
       "      <td>Binge</td>\n",
       "      <td>2024</td>\n",
       "    </tr>\n",
       "    <tr>\n",
       "      <th>46</th>\n",
       "      <td>Zee5</td>\n",
       "      <td>165</td>\n",
       "      <td>Horror</td>\n",
       "      <td>2024-10-25</td>\n",
       "      <td>Tablet</td>\n",
       "      <td>UAE</td>\n",
       "      <td>0.83</td>\n",
       "      <td>Long</td>\n",
       "      <td>2024</td>\n",
       "    </tr>\n",
       "    <tr>\n",
       "      <th>49</th>\n",
       "      <td>YouTube</td>\n",
       "      <td>219</td>\n",
       "      <td>Horror</td>\n",
       "      <td>2024-10-23</td>\n",
       "      <td>Mobile</td>\n",
       "      <td>Spain</td>\n",
       "      <td>0.96</td>\n",
       "      <td>Binge</td>\n",
       "      <td>2024</td>\n",
       "    </tr>\n",
       "    <tr>\n",
       "      <th>...</th>\n",
       "      <td>...</td>\n",
       "      <td>...</td>\n",
       "      <td>...</td>\n",
       "      <td>...</td>\n",
       "      <td>...</td>\n",
       "      <td>...</td>\n",
       "      <td>...</td>\n",
       "      <td>...</td>\n",
       "      <td>...</td>\n",
       "    </tr>\n",
       "    <tr>\n",
       "      <th>4871</th>\n",
       "      <td>Hotstar</td>\n",
       "      <td>93</td>\n",
       "      <td>Horror</td>\n",
       "      <td>2024-12-22</td>\n",
       "      <td>Tablet</td>\n",
       "      <td>India</td>\n",
       "      <td>0.23</td>\n",
       "      <td>Long</td>\n",
       "      <td>2024</td>\n",
       "    </tr>\n",
       "    <tr>\n",
       "      <th>4905</th>\n",
       "      <td>Prime Video</td>\n",
       "      <td>42</td>\n",
       "      <td>Horror</td>\n",
       "      <td>2025-03-10</td>\n",
       "      <td>Set-top Box</td>\n",
       "      <td>Spain</td>\n",
       "      <td>0.31</td>\n",
       "      <td>Medium</td>\n",
       "      <td>2025</td>\n",
       "    </tr>\n",
       "    <tr>\n",
       "      <th>4933</th>\n",
       "      <td>Zee5</td>\n",
       "      <td>174</td>\n",
       "      <td>Horror</td>\n",
       "      <td>2024-03-30</td>\n",
       "      <td>Desktop</td>\n",
       "      <td>France</td>\n",
       "      <td>0.52</td>\n",
       "      <td>Long</td>\n",
       "      <td>2024</td>\n",
       "    </tr>\n",
       "    <tr>\n",
       "      <th>4954</th>\n",
       "      <td>YouTube</td>\n",
       "      <td>124</td>\n",
       "      <td>Horror</td>\n",
       "      <td>2024-07-06</td>\n",
       "      <td>Tablet</td>\n",
       "      <td>Germany</td>\n",
       "      <td>0.88</td>\n",
       "      <td>Long</td>\n",
       "      <td>2024</td>\n",
       "    </tr>\n",
       "    <tr>\n",
       "      <th>4975</th>\n",
       "      <td>Netflix</td>\n",
       "      <td>288</td>\n",
       "      <td>Horror</td>\n",
       "      <td>2024-09-26</td>\n",
       "      <td>Tablet</td>\n",
       "      <td>UAE</td>\n",
       "      <td>0.28</td>\n",
       "      <td>Binge</td>\n",
       "      <td>2024</td>\n",
       "    </tr>\n",
       "  </tbody>\n",
       "</table>\n",
       "<p>302 rows × 9 columns</p>\n",
       "</div>"
      ],
      "text/plain": [
       "         platform  watch_time_minutes   genre       date       device  \\\n",
       "19        Netflix                  86  Horror 2024-11-18  Set-top Box   \n",
       "22        Hotstar                  73  Horror 2024-02-11  Set-top Box   \n",
       "29        Netflix                 259  Horror 2024-10-10     Smart TV   \n",
       "46           Zee5                 165  Horror 2024-10-25       Tablet   \n",
       "49        YouTube                 219  Horror 2024-10-23       Mobile   \n",
       "...           ...                 ...     ...        ...          ...   \n",
       "4871      Hotstar                  93  Horror 2024-12-22       Tablet   \n",
       "4905  Prime Video                  42  Horror 2025-03-10  Set-top Box   \n",
       "4933         Zee5                 174  Horror 2024-03-30      Desktop   \n",
       "4954      YouTube                 124  Horror 2024-07-06       Tablet   \n",
       "4975      Netflix                 288  Horror 2024-09-26       Tablet   \n",
       "\n",
       "       location  completion_rate watch_category  Year  \n",
       "19    Australia             0.81         Medium  2024  \n",
       "22          UAE             0.72         Medium  2024  \n",
       "29        India             0.65          Binge  2024  \n",
       "46          UAE             0.83           Long  2024  \n",
       "49        Spain             0.96          Binge  2024  \n",
       "...         ...              ...            ...   ...  \n",
       "4871      India             0.23           Long  2024  \n",
       "4905      Spain             0.31         Medium  2025  \n",
       "4933     France             0.52           Long  2024  \n",
       "4954    Germany             0.88           Long  2024  \n",
       "4975        UAE             0.28          Binge  2024  \n",
       "\n",
       "[302 rows x 9 columns]"
      ]
     },
     "execution_count": 139,
     "metadata": {},
     "output_type": "execute_result"
    }
   ],
   "source": [
    "df[df['genre']=='Horror'] # get entries whose genre is horror"
   ]
  },
  {
   "cell_type": "code",
   "execution_count": 35,
   "id": "64b33bed-b559-49ca-8464-92371a283fec",
   "metadata": {},
   "outputs": [
    {
     "data": {
      "text/html": [
       "<div>\n",
       "<style scoped>\n",
       "    .dataframe tbody tr th:only-of-type {\n",
       "        vertical-align: middle;\n",
       "    }\n",
       "\n",
       "    .dataframe tbody tr th {\n",
       "        vertical-align: top;\n",
       "    }\n",
       "\n",
       "    .dataframe thead th {\n",
       "        text-align: right;\n",
       "    }\n",
       "</style>\n",
       "<table border=\"1\" class=\"dataframe\">\n",
       "  <thead>\n",
       "    <tr style=\"text-align: right;\">\n",
       "      <th></th>\n",
       "      <th>platform</th>\n",
       "      <th>watch_time_minutes</th>\n",
       "      <th>genre</th>\n",
       "      <th>date</th>\n",
       "      <th>device</th>\n",
       "      <th>location</th>\n",
       "      <th>completion_rate</th>\n",
       "      <th>watch_category</th>\n",
       "    </tr>\n",
       "  </thead>\n",
       "  <tbody>\n",
       "    <tr>\n",
       "      <th>28</th>\n",
       "      <td>Netflix</td>\n",
       "      <td>139</td>\n",
       "      <td>Documentary</td>\n",
       "      <td>2024-11-29</td>\n",
       "      <td>Smart TV</td>\n",
       "      <td>South Africa</td>\n",
       "      <td>0.91</td>\n",
       "      <td>Long</td>\n",
       "    </tr>\n",
       "    <tr>\n",
       "      <th>29</th>\n",
       "      <td>Netflix</td>\n",
       "      <td>259</td>\n",
       "      <td>Horror</td>\n",
       "      <td>2024-10-10</td>\n",
       "      <td>Smart TV</td>\n",
       "      <td>India</td>\n",
       "      <td>0.65</td>\n",
       "      <td>Binge</td>\n",
       "    </tr>\n",
       "    <tr>\n",
       "      <th>35</th>\n",
       "      <td>Netflix</td>\n",
       "      <td>152</td>\n",
       "      <td>Biography</td>\n",
       "      <td>2024-08-20</td>\n",
       "      <td>Smart TV</td>\n",
       "      <td>Germany</td>\n",
       "      <td>0.29</td>\n",
       "      <td>Long</td>\n",
       "    </tr>\n",
       "    <tr>\n",
       "      <th>45</th>\n",
       "      <td>Netflix</td>\n",
       "      <td>173</td>\n",
       "      <td>Animation</td>\n",
       "      <td>2024-01-02</td>\n",
       "      <td>Smart TV</td>\n",
       "      <td>Canada</td>\n",
       "      <td>0.58</td>\n",
       "      <td>Long</td>\n",
       "    </tr>\n",
       "    <tr>\n",
       "      <th>93</th>\n",
       "      <td>Netflix</td>\n",
       "      <td>129</td>\n",
       "      <td>Sport</td>\n",
       "      <td>2024-11-15</td>\n",
       "      <td>Smart TV</td>\n",
       "      <td>Australia</td>\n",
       "      <td>0.86</td>\n",
       "      <td>Long</td>\n",
       "    </tr>\n",
       "    <tr>\n",
       "      <th>...</th>\n",
       "      <td>...</td>\n",
       "      <td>...</td>\n",
       "      <td>...</td>\n",
       "      <td>...</td>\n",
       "      <td>...</td>\n",
       "      <td>...</td>\n",
       "      <td>...</td>\n",
       "      <td>...</td>\n",
       "    </tr>\n",
       "    <tr>\n",
       "      <th>4888</th>\n",
       "      <td>Netflix</td>\n",
       "      <td>8</td>\n",
       "      <td>Action</td>\n",
       "      <td>2024-09-30</td>\n",
       "      <td>Smart TV</td>\n",
       "      <td>USA</td>\n",
       "      <td>0.70</td>\n",
       "      <td>Short</td>\n",
       "    </tr>\n",
       "    <tr>\n",
       "      <th>4910</th>\n",
       "      <td>Netflix</td>\n",
       "      <td>201</td>\n",
       "      <td>Drama</td>\n",
       "      <td>2024-05-15</td>\n",
       "      <td>Smart TV</td>\n",
       "      <td>South Africa</td>\n",
       "      <td>0.57</td>\n",
       "      <td>Binge</td>\n",
       "    </tr>\n",
       "    <tr>\n",
       "      <th>4911</th>\n",
       "      <td>Netflix</td>\n",
       "      <td>12</td>\n",
       "      <td>Sport</td>\n",
       "      <td>2025-01-31</td>\n",
       "      <td>Smart TV</td>\n",
       "      <td>South Africa</td>\n",
       "      <td>0.64</td>\n",
       "      <td>Short</td>\n",
       "    </tr>\n",
       "    <tr>\n",
       "      <th>4932</th>\n",
       "      <td>Netflix</td>\n",
       "      <td>52</td>\n",
       "      <td>Family</td>\n",
       "      <td>2024-02-18</td>\n",
       "      <td>Smart TV</td>\n",
       "      <td>Brazil</td>\n",
       "      <td>0.53</td>\n",
       "      <td>Medium</td>\n",
       "    </tr>\n",
       "    <tr>\n",
       "      <th>4959</th>\n",
       "      <td>Netflix</td>\n",
       "      <td>215</td>\n",
       "      <td>Music</td>\n",
       "      <td>2024-12-23</td>\n",
       "      <td>Smart TV</td>\n",
       "      <td>Germany</td>\n",
       "      <td>0.69</td>\n",
       "      <td>Binge</td>\n",
       "    </tr>\n",
       "  </tbody>\n",
       "</table>\n",
       "<p>144 rows × 8 columns</p>\n",
       "</div>"
      ],
      "text/plain": [
       "     platform  watch_time_minutes        genre       date    device  \\\n",
       "28    Netflix                 139  Documentary 2024-11-29  Smart TV   \n",
       "29    Netflix                 259       Horror 2024-10-10  Smart TV   \n",
       "35    Netflix                 152    Biography 2024-08-20  Smart TV   \n",
       "45    Netflix                 173    Animation 2024-01-02  Smart TV   \n",
       "93    Netflix                 129        Sport 2024-11-15  Smart TV   \n",
       "...       ...                 ...          ...        ...       ...   \n",
       "4888  Netflix                   8       Action 2024-09-30  Smart TV   \n",
       "4910  Netflix                 201        Drama 2024-05-15  Smart TV   \n",
       "4911  Netflix                  12        Sport 2025-01-31  Smart TV   \n",
       "4932  Netflix                  52       Family 2024-02-18  Smart TV   \n",
       "4959  Netflix                 215        Music 2024-12-23  Smart TV   \n",
       "\n",
       "          location  completion_rate watch_category  \n",
       "28    South Africa             0.91           Long  \n",
       "29           India             0.65          Binge  \n",
       "35         Germany             0.29           Long  \n",
       "45          Canada             0.58           Long  \n",
       "93       Australia             0.86           Long  \n",
       "...            ...              ...            ...  \n",
       "4888           USA             0.70          Short  \n",
       "4910  South Africa             0.57          Binge  \n",
       "4911  South Africa             0.64          Short  \n",
       "4932        Brazil             0.53         Medium  \n",
       "4959       Germany             0.69          Binge  \n",
       "\n",
       "[144 rows x 8 columns]"
      ]
     },
     "execution_count": 35,
     "metadata": {},
     "output_type": "execute_result"
    }
   ],
   "source": [
    "# show the record whose platform is Netflix and device is Smart TV\n",
    "df[(df['platform'] == 'Netflix') & (df['device'] == 'Smart TV')]"
   ]
  },
  {
   "cell_type": "code",
   "execution_count": 36,
   "id": "62979b45-87f7-4eb7-a780-329909714ca7",
   "metadata": {},
   "outputs": [
    {
     "data": {
      "text/plain": [
       "device\n",
       "Smart TV          870\n",
       "Gaming Console    853\n",
       "Set-top Box       846\n",
       "Mobile            831\n",
       "Desktop           807\n",
       "Tablet            793\n",
       "Name: count, dtype: int64"
      ]
     },
     "execution_count": 36,
     "metadata": {},
     "output_type": "execute_result"
    }
   ],
   "source": [
    "df['device'].value_counts() # shows the value count in each category"
   ]
  },
  {
   "cell_type": "markdown",
   "id": "1a577821-7a5c-4609-8864-79bd4a7a00ec",
   "metadata": {},
   "source": [
    "- There are 870 Smart TV , 853 Gaming Console , 846 Set-top-box , 831 Mobiles , 807 Desktop and 793 Tablets values are available."
   ]
  },
  {
   "cell_type": "code",
   "execution_count": 38,
   "id": "75e1e527-a682-461c-a8c5-8227137c5e31",
   "metadata": {},
   "outputs": [
    {
     "data": {
      "text/plain": [
       "platform\n",
       "Hotstar        0.606943\n",
       "Netflix        0.608050\n",
       "Prime Video    0.598821\n",
       "SonyLiv        0.586965\n",
       "YouTube        0.595568\n",
       "Zee5           0.587383\n",
       "Name: completion_rate, dtype: float64"
      ]
     },
     "execution_count": 38,
     "metadata": {},
     "output_type": "execute_result"
    }
   ],
   "source": [
    "# calculate the average of platform by its completion rate \n",
    "df.groupby(\"platform\")[\"completion_rate\"].mean() "
   ]
  },
  {
   "cell_type": "code",
   "execution_count": 39,
   "id": "073702a4-774b-4660-80a1-d90c124e80dd",
   "metadata": {},
   "outputs": [
    {
     "data": {
      "text/html": [
       "<div>\n",
       "<style scoped>\n",
       "    .dataframe tbody tr th:only-of-type {\n",
       "        vertical-align: middle;\n",
       "    }\n",
       "\n",
       "    .dataframe tbody tr th {\n",
       "        vertical-align: top;\n",
       "    }\n",
       "\n",
       "    .dataframe thead th {\n",
       "        text-align: right;\n",
       "    }\n",
       "</style>\n",
       "<table border=\"1\" class=\"dataframe\">\n",
       "  <thead>\n",
       "    <tr style=\"text-align: right;\">\n",
       "      <th></th>\n",
       "      <th>platform</th>\n",
       "      <th>watch_time_minutes</th>\n",
       "      <th>genre</th>\n",
       "      <th>date</th>\n",
       "      <th>device</th>\n",
       "      <th>location</th>\n",
       "      <th>completion_rate</th>\n",
       "      <th>watch_category</th>\n",
       "    </tr>\n",
       "  </thead>\n",
       "  <tbody>\n",
       "    <tr>\n",
       "      <th>428</th>\n",
       "      <td>SonyLiv</td>\n",
       "      <td>84</td>\n",
       "      <td>Sci-Fi</td>\n",
       "      <td>2024-04-24</td>\n",
       "      <td>Mobile</td>\n",
       "      <td>India</td>\n",
       "      <td>1.0</td>\n",
       "      <td>Medium</td>\n",
       "    </tr>\n",
       "    <tr>\n",
       "      <th>2210</th>\n",
       "      <td>Prime Video</td>\n",
       "      <td>18</td>\n",
       "      <td>Romance</td>\n",
       "      <td>2024-11-12</td>\n",
       "      <td>Smart TV</td>\n",
       "      <td>Italy</td>\n",
       "      <td>1.0</td>\n",
       "      <td>Short</td>\n",
       "    </tr>\n",
       "    <tr>\n",
       "      <th>4005</th>\n",
       "      <td>Netflix</td>\n",
       "      <td>48</td>\n",
       "      <td>History</td>\n",
       "      <td>2024-03-19</td>\n",
       "      <td>Tablet</td>\n",
       "      <td>Japan</td>\n",
       "      <td>1.0</td>\n",
       "      <td>Medium</td>\n",
       "    </tr>\n",
       "    <tr>\n",
       "      <th>2784</th>\n",
       "      <td>Hotstar</td>\n",
       "      <td>148</td>\n",
       "      <td>Family</td>\n",
       "      <td>2025-01-01</td>\n",
       "      <td>Smart TV</td>\n",
       "      <td>Mexico</td>\n",
       "      <td>1.0</td>\n",
       "      <td>Long</td>\n",
       "    </tr>\n",
       "    <tr>\n",
       "      <th>724</th>\n",
       "      <td>Netflix</td>\n",
       "      <td>92</td>\n",
       "      <td>Adventure</td>\n",
       "      <td>2024-12-22</td>\n",
       "      <td>Tablet</td>\n",
       "      <td>UK</td>\n",
       "      <td>1.0</td>\n",
       "      <td>Long</td>\n",
       "    </tr>\n",
       "    <tr>\n",
       "      <th>...</th>\n",
       "      <td>...</td>\n",
       "      <td>...</td>\n",
       "      <td>...</td>\n",
       "      <td>...</td>\n",
       "      <td>...</td>\n",
       "      <td>...</td>\n",
       "      <td>...</td>\n",
       "      <td>...</td>\n",
       "    </tr>\n",
       "    <tr>\n",
       "      <th>3762</th>\n",
       "      <td>Zee5</td>\n",
       "      <td>214</td>\n",
       "      <td>Documentary</td>\n",
       "      <td>2025-01-30</td>\n",
       "      <td>Tablet</td>\n",
       "      <td>Brazil</td>\n",
       "      <td>0.2</td>\n",
       "      <td>Binge</td>\n",
       "    </tr>\n",
       "    <tr>\n",
       "      <th>730</th>\n",
       "      <td>SonyLiv</td>\n",
       "      <td>53</td>\n",
       "      <td>Mystery</td>\n",
       "      <td>2024-04-28</td>\n",
       "      <td>Tablet</td>\n",
       "      <td>UAE</td>\n",
       "      <td>0.2</td>\n",
       "      <td>Medium</td>\n",
       "    </tr>\n",
       "    <tr>\n",
       "      <th>1590</th>\n",
       "      <td>Netflix</td>\n",
       "      <td>163</td>\n",
       "      <td>Action</td>\n",
       "      <td>2024-01-10</td>\n",
       "      <td>Smart TV</td>\n",
       "      <td>Japan</td>\n",
       "      <td>0.2</td>\n",
       "      <td>Long</td>\n",
       "    </tr>\n",
       "    <tr>\n",
       "      <th>1365</th>\n",
       "      <td>SonyLiv</td>\n",
       "      <td>141</td>\n",
       "      <td>Mystery</td>\n",
       "      <td>2024-04-19</td>\n",
       "      <td>Gaming Console</td>\n",
       "      <td>UAE</td>\n",
       "      <td>0.2</td>\n",
       "      <td>Long</td>\n",
       "    </tr>\n",
       "    <tr>\n",
       "      <th>2806</th>\n",
       "      <td>SonyLiv</td>\n",
       "      <td>290</td>\n",
       "      <td>Crime</td>\n",
       "      <td>2024-10-06</td>\n",
       "      <td>Tablet</td>\n",
       "      <td>South Korea</td>\n",
       "      <td>0.2</td>\n",
       "      <td>Binge</td>\n",
       "    </tr>\n",
       "  </tbody>\n",
       "</table>\n",
       "<p>5000 rows × 8 columns</p>\n",
       "</div>"
      ],
      "text/plain": [
       "         platform  watch_time_minutes        genre       date          device  \\\n",
       "428       SonyLiv                  84       Sci-Fi 2024-04-24          Mobile   \n",
       "2210  Prime Video                  18      Romance 2024-11-12        Smart TV   \n",
       "4005      Netflix                  48      History 2024-03-19          Tablet   \n",
       "2784      Hotstar                 148       Family 2025-01-01        Smart TV   \n",
       "724       Netflix                  92    Adventure 2024-12-22          Tablet   \n",
       "...           ...                 ...          ...        ...             ...   \n",
       "3762         Zee5                 214  Documentary 2025-01-30          Tablet   \n",
       "730       SonyLiv                  53      Mystery 2024-04-28          Tablet   \n",
       "1590      Netflix                 163       Action 2024-01-10        Smart TV   \n",
       "1365      SonyLiv                 141      Mystery 2024-04-19  Gaming Console   \n",
       "2806      SonyLiv                 290        Crime 2024-10-06          Tablet   \n",
       "\n",
       "         location  completion_rate watch_category  \n",
       "428         India              1.0         Medium  \n",
       "2210        Italy              1.0          Short  \n",
       "4005        Japan              1.0         Medium  \n",
       "2784       Mexico              1.0           Long  \n",
       "724            UK              1.0           Long  \n",
       "...           ...              ...            ...  \n",
       "3762       Brazil              0.2          Binge  \n",
       "730           UAE              0.2         Medium  \n",
       "1590        Japan              0.2           Long  \n",
       "1365          UAE              0.2           Long  \n",
       "2806  South Korea              0.2          Binge  \n",
       "\n",
       "[5000 rows x 8 columns]"
      ]
     },
     "execution_count": 39,
     "metadata": {},
     "output_type": "execute_result"
    }
   ],
   "source": [
    "df.sort_values(by=\"completion_rate\",ascending=False) # sort the completion rate by ascending order"
   ]
  },
  {
   "cell_type": "markdown",
   "id": "e682875f-ebbb-4c28-b45a-a7de4ba1c8ce",
   "metadata": {},
   "source": [
    "- This short the values of completion rate with highest to lowest order."
   ]
  },
  {
   "cell_type": "code",
   "execution_count": 41,
   "id": "a76a0f64-facb-4057-a8ff-f8022dc81cfd",
   "metadata": {},
   "outputs": [
    {
     "data": {
      "text/html": [
       "<div>\n",
       "<style scoped>\n",
       "    .dataframe tbody tr th:only-of-type {\n",
       "        vertical-align: middle;\n",
       "    }\n",
       "\n",
       "    .dataframe tbody tr th {\n",
       "        vertical-align: top;\n",
       "    }\n",
       "\n",
       "    .dataframe thead th {\n",
       "        text-align: right;\n",
       "    }\n",
       "</style>\n",
       "<table border=\"1\" class=\"dataframe\">\n",
       "  <thead>\n",
       "    <tr style=\"text-align: right;\">\n",
       "      <th></th>\n",
       "      <th>platform</th>\n",
       "      <th>watch_time_minutes</th>\n",
       "      <th>genre</th>\n",
       "      <th>date</th>\n",
       "      <th>device</th>\n",
       "      <th>location</th>\n",
       "      <th>completion_rate</th>\n",
       "      <th>watch_category</th>\n",
       "    </tr>\n",
       "  </thead>\n",
       "  <tbody>\n",
       "    <tr>\n",
       "      <th>46</th>\n",
       "      <td>Zee5</td>\n",
       "      <td>165</td>\n",
       "      <td>Horror</td>\n",
       "      <td>2024-10-25</td>\n",
       "      <td>Tablet</td>\n",
       "      <td>UAE</td>\n",
       "      <td>0.83</td>\n",
       "      <td>Long</td>\n",
       "    </tr>\n",
       "    <tr>\n",
       "      <th>186</th>\n",
       "      <td>Prime Video</td>\n",
       "      <td>158</td>\n",
       "      <td>Horror</td>\n",
       "      <td>2024-05-24</td>\n",
       "      <td>Smart TV</td>\n",
       "      <td>Spain</td>\n",
       "      <td>0.24</td>\n",
       "      <td>Long</td>\n",
       "    </tr>\n",
       "    <tr>\n",
       "      <th>274</th>\n",
       "      <td>Netflix</td>\n",
       "      <td>122</td>\n",
       "      <td>Horror</td>\n",
       "      <td>2024-05-08</td>\n",
       "      <td>Desktop</td>\n",
       "      <td>UAE</td>\n",
       "      <td>0.46</td>\n",
       "      <td>Long</td>\n",
       "    </tr>\n",
       "    <tr>\n",
       "      <th>332</th>\n",
       "      <td>Netflix</td>\n",
       "      <td>143</td>\n",
       "      <td>Horror</td>\n",
       "      <td>2024-07-30</td>\n",
       "      <td>Smart TV</td>\n",
       "      <td>Mexico</td>\n",
       "      <td>0.76</td>\n",
       "      <td>Long</td>\n",
       "    </tr>\n",
       "    <tr>\n",
       "      <th>391</th>\n",
       "      <td>YouTube</td>\n",
       "      <td>128</td>\n",
       "      <td>Horror</td>\n",
       "      <td>2024-07-17</td>\n",
       "      <td>Tablet</td>\n",
       "      <td>Italy</td>\n",
       "      <td>0.52</td>\n",
       "      <td>Long</td>\n",
       "    </tr>\n",
       "    <tr>\n",
       "      <th>...</th>\n",
       "      <td>...</td>\n",
       "      <td>...</td>\n",
       "      <td>...</td>\n",
       "      <td>...</td>\n",
       "      <td>...</td>\n",
       "      <td>...</td>\n",
       "      <td>...</td>\n",
       "      <td>...</td>\n",
       "    </tr>\n",
       "    <tr>\n",
       "      <th>4792</th>\n",
       "      <td>YouTube</td>\n",
       "      <td>102</td>\n",
       "      <td>Horror</td>\n",
       "      <td>2024-04-25</td>\n",
       "      <td>Mobile</td>\n",
       "      <td>India</td>\n",
       "      <td>0.50</td>\n",
       "      <td>Long</td>\n",
       "    </tr>\n",
       "    <tr>\n",
       "      <th>4853</th>\n",
       "      <td>Prime Video</td>\n",
       "      <td>177</td>\n",
       "      <td>Horror</td>\n",
       "      <td>2024-12-15</td>\n",
       "      <td>Mobile</td>\n",
       "      <td>Australia</td>\n",
       "      <td>0.87</td>\n",
       "      <td>Long</td>\n",
       "    </tr>\n",
       "    <tr>\n",
       "      <th>4871</th>\n",
       "      <td>Hotstar</td>\n",
       "      <td>93</td>\n",
       "      <td>Horror</td>\n",
       "      <td>2024-12-22</td>\n",
       "      <td>Tablet</td>\n",
       "      <td>India</td>\n",
       "      <td>0.23</td>\n",
       "      <td>Long</td>\n",
       "    </tr>\n",
       "    <tr>\n",
       "      <th>4933</th>\n",
       "      <td>Zee5</td>\n",
       "      <td>174</td>\n",
       "      <td>Horror</td>\n",
       "      <td>2024-03-30</td>\n",
       "      <td>Desktop</td>\n",
       "      <td>France</td>\n",
       "      <td>0.52</td>\n",
       "      <td>Long</td>\n",
       "    </tr>\n",
       "    <tr>\n",
       "      <th>4954</th>\n",
       "      <td>YouTube</td>\n",
       "      <td>124</td>\n",
       "      <td>Horror</td>\n",
       "      <td>2024-07-06</td>\n",
       "      <td>Tablet</td>\n",
       "      <td>Germany</td>\n",
       "      <td>0.88</td>\n",
       "      <td>Long</td>\n",
       "    </tr>\n",
       "  </tbody>\n",
       "</table>\n",
       "<p>85 rows × 8 columns</p>\n",
       "</div>"
      ],
      "text/plain": [
       "         platform  watch_time_minutes   genre       date    device   location  \\\n",
       "46           Zee5                 165  Horror 2024-10-25    Tablet        UAE   \n",
       "186   Prime Video                 158  Horror 2024-05-24  Smart TV      Spain   \n",
       "274       Netflix                 122  Horror 2024-05-08   Desktop        UAE   \n",
       "332       Netflix                 143  Horror 2024-07-30  Smart TV     Mexico   \n",
       "391       YouTube                 128  Horror 2024-07-17    Tablet      Italy   \n",
       "...           ...                 ...     ...        ...       ...        ...   \n",
       "4792      YouTube                 102  Horror 2024-04-25    Mobile      India   \n",
       "4853  Prime Video                 177  Horror 2024-12-15    Mobile  Australia   \n",
       "4871      Hotstar                  93  Horror 2024-12-22    Tablet      India   \n",
       "4933         Zee5                 174  Horror 2024-03-30   Desktop     France   \n",
       "4954      YouTube                 124  Horror 2024-07-06    Tablet    Germany   \n",
       "\n",
       "      completion_rate watch_category  \n",
       "46               0.83           Long  \n",
       "186              0.24           Long  \n",
       "274              0.46           Long  \n",
       "332              0.76           Long  \n",
       "391              0.52           Long  \n",
       "...               ...            ...  \n",
       "4792             0.50           Long  \n",
       "4853             0.87           Long  \n",
       "4871             0.23           Long  \n",
       "4933             0.52           Long  \n",
       "4954             0.88           Long  \n",
       "\n",
       "[85 rows x 8 columns]"
      ]
     },
     "execution_count": 41,
     "metadata": {},
     "output_type": "execute_result"
    }
   ],
   "source": [
    "# It show the records whose watch category is Long and genre is Horror\n",
    "df[(df['watch_category'] == 'Long') & (df['genre']=='Horror')]"
   ]
  },
  {
   "cell_type": "code",
   "execution_count": 42,
   "id": "6b140567-7980-4243-b7a8-0355dffce04c",
   "metadata": {},
   "outputs": [
    {
     "data": {
      "text/plain": [
       "RangeIndex(start=0, stop=5000, step=1)"
      ]
     },
     "execution_count": 42,
     "metadata": {},
     "output_type": "execute_result"
    }
   ],
   "source": [
    "df.index # it return the row index"
   ]
  },
  {
   "cell_type": "markdown",
   "id": "cd605cee-5c0e-4b11-82ec-f22b277f2462",
   "metadata": {},
   "source": [
    "- The index is start form 0 to 5000 with step is 1."
   ]
  },
  {
   "cell_type": "code",
   "execution_count": 44,
   "id": "911ab435-0e21-4220-88ce-64a8570eeb41",
   "metadata": {},
   "outputs": [
    {
     "data": {
      "text/html": [
       "<div>\n",
       "<style scoped>\n",
       "    .dataframe tbody tr th:only-of-type {\n",
       "        vertical-align: middle;\n",
       "    }\n",
       "\n",
       "    .dataframe tbody tr th {\n",
       "        vertical-align: top;\n",
       "    }\n",
       "\n",
       "    .dataframe thead th {\n",
       "        text-align: right;\n",
       "    }\n",
       "</style>\n",
       "<table border=\"1\" class=\"dataframe\">\n",
       "  <thead>\n",
       "    <tr style=\"text-align: right;\">\n",
       "      <th></th>\n",
       "      <th>platform</th>\n",
       "      <th>watch_time_minutes</th>\n",
       "      <th>genre</th>\n",
       "      <th>date</th>\n",
       "      <th>device</th>\n",
       "      <th>location</th>\n",
       "      <th>completion_rate</th>\n",
       "      <th>watch_category</th>\n",
       "    </tr>\n",
       "  </thead>\n",
       "  <tbody>\n",
       "    <tr>\n",
       "      <th>3</th>\n",
       "      <td>Prime Video</td>\n",
       "      <td>297</td>\n",
       "      <td>Sport</td>\n",
       "      <td>2024-07-10</td>\n",
       "      <td>Smart TV</td>\n",
       "      <td>UK</td>\n",
       "      <td>0.20</td>\n",
       "      <td>Binge</td>\n",
       "    </tr>\n",
       "    <tr>\n",
       "      <th>4</th>\n",
       "      <td>YouTube</td>\n",
       "      <td>281</td>\n",
       "      <td>Reality</td>\n",
       "      <td>2024-04-11</td>\n",
       "      <td>Desktop</td>\n",
       "      <td>Canada</td>\n",
       "      <td>0.95</td>\n",
       "      <td>Binge</td>\n",
       "    </tr>\n",
       "    <tr>\n",
       "      <th>7</th>\n",
       "      <td>SonyLiv</td>\n",
       "      <td>295</td>\n",
       "      <td>Documentary</td>\n",
       "      <td>2024-07-20</td>\n",
       "      <td>Gaming Console</td>\n",
       "      <td>France</td>\n",
       "      <td>0.55</td>\n",
       "      <td>Binge</td>\n",
       "    </tr>\n",
       "    <tr>\n",
       "      <th>11</th>\n",
       "      <td>YouTube</td>\n",
       "      <td>242</td>\n",
       "      <td>Biography</td>\n",
       "      <td>2025-03-14</td>\n",
       "      <td>Tablet</td>\n",
       "      <td>Italy</td>\n",
       "      <td>0.78</td>\n",
       "      <td>Binge</td>\n",
       "    </tr>\n",
       "    <tr>\n",
       "      <th>13</th>\n",
       "      <td>Prime Video</td>\n",
       "      <td>264</td>\n",
       "      <td>Animation</td>\n",
       "      <td>2024-07-08</td>\n",
       "      <td>Gaming Console</td>\n",
       "      <td>India</td>\n",
       "      <td>0.99</td>\n",
       "      <td>Binge</td>\n",
       "    </tr>\n",
       "    <tr>\n",
       "      <th>...</th>\n",
       "      <td>...</td>\n",
       "      <td>...</td>\n",
       "      <td>...</td>\n",
       "      <td>...</td>\n",
       "      <td>...</td>\n",
       "      <td>...</td>\n",
       "      <td>...</td>\n",
       "      <td>...</td>\n",
       "    </tr>\n",
       "    <tr>\n",
       "      <th>4987</th>\n",
       "      <td>Hotstar</td>\n",
       "      <td>289</td>\n",
       "      <td>Thriller</td>\n",
       "      <td>2024-09-30</td>\n",
       "      <td>Mobile</td>\n",
       "      <td>Spain</td>\n",
       "      <td>0.51</td>\n",
       "      <td>Binge</td>\n",
       "    </tr>\n",
       "    <tr>\n",
       "      <th>4992</th>\n",
       "      <td>Netflix</td>\n",
       "      <td>243</td>\n",
       "      <td>Biography</td>\n",
       "      <td>2024-01-17</td>\n",
       "      <td>Desktop</td>\n",
       "      <td>USA</td>\n",
       "      <td>0.77</td>\n",
       "      <td>Binge</td>\n",
       "    </tr>\n",
       "    <tr>\n",
       "      <th>4993</th>\n",
       "      <td>Zee5</td>\n",
       "      <td>214</td>\n",
       "      <td>Documentary</td>\n",
       "      <td>2025-01-02</td>\n",
       "      <td>Mobile</td>\n",
       "      <td>UK</td>\n",
       "      <td>0.46</td>\n",
       "      <td>Binge</td>\n",
       "    </tr>\n",
       "    <tr>\n",
       "      <th>4995</th>\n",
       "      <td>Netflix</td>\n",
       "      <td>207</td>\n",
       "      <td>Thriller</td>\n",
       "      <td>2024-10-04</td>\n",
       "      <td>Set-top Box</td>\n",
       "      <td>Canada</td>\n",
       "      <td>0.33</td>\n",
       "      <td>Binge</td>\n",
       "    </tr>\n",
       "    <tr>\n",
       "      <th>4996</th>\n",
       "      <td>Zee5</td>\n",
       "      <td>291</td>\n",
       "      <td>History</td>\n",
       "      <td>2024-05-02</td>\n",
       "      <td>Gaming Console</td>\n",
       "      <td>UK</td>\n",
       "      <td>0.70</td>\n",
       "      <td>Binge</td>\n",
       "    </tr>\n",
       "  </tbody>\n",
       "</table>\n",
       "<p>1623 rows × 8 columns</p>\n",
       "</div>"
      ],
      "text/plain": [
       "         platform  watch_time_minutes        genre       date          device  \\\n",
       "3     Prime Video                 297        Sport 2024-07-10        Smart TV   \n",
       "4         YouTube                 281      Reality 2024-04-11         Desktop   \n",
       "7         SonyLiv                 295  Documentary 2024-07-20  Gaming Console   \n",
       "11        YouTube                 242    Biography 2025-03-14          Tablet   \n",
       "13    Prime Video                 264    Animation 2024-07-08  Gaming Console   \n",
       "...           ...                 ...          ...        ...             ...   \n",
       "4987      Hotstar                 289     Thriller 2024-09-30          Mobile   \n",
       "4992      Netflix                 243    Biography 2024-01-17         Desktop   \n",
       "4993         Zee5                 214  Documentary 2025-01-02          Mobile   \n",
       "4995      Netflix                 207     Thriller 2024-10-04     Set-top Box   \n",
       "4996         Zee5                 291      History 2024-05-02  Gaming Console   \n",
       "\n",
       "     location  completion_rate watch_category  \n",
       "3          UK             0.20          Binge  \n",
       "4      Canada             0.95          Binge  \n",
       "7      France             0.55          Binge  \n",
       "11      Italy             0.78          Binge  \n",
       "13      India             0.99          Binge  \n",
       "...       ...              ...            ...  \n",
       "4987    Spain             0.51          Binge  \n",
       "4992      USA             0.77          Binge  \n",
       "4993       UK             0.46          Binge  \n",
       "4995   Canada             0.33          Binge  \n",
       "4996       UK             0.70          Binge  \n",
       "\n",
       "[1623 rows x 8 columns]"
      ]
     },
     "execution_count": 44,
     "metadata": {},
     "output_type": "execute_result"
    }
   ],
   "source": [
    "df[df['watch_time_minutes'] > 200] # filtring the data where watch time min > 200"
   ]
  },
  {
   "cell_type": "code",
   "execution_count": 45,
   "id": "3507095a-bb16-4bd6-94fd-7ff08cab9e43",
   "metadata": {},
   "outputs": [
    {
     "data": {
      "text/html": [
       "<div>\n",
       "<style scoped>\n",
       "    .dataframe tbody tr th:only-of-type {\n",
       "        vertical-align: middle;\n",
       "    }\n",
       "\n",
       "    .dataframe tbody tr th {\n",
       "        vertical-align: top;\n",
       "    }\n",
       "\n",
       "    .dataframe thead th {\n",
       "        text-align: right;\n",
       "    }\n",
       "</style>\n",
       "<table border=\"1\" class=\"dataframe\">\n",
       "  <thead>\n",
       "    <tr style=\"text-align: right;\">\n",
       "      <th></th>\n",
       "      <th>platform</th>\n",
       "      <th>completion_rate</th>\n",
       "    </tr>\n",
       "  </thead>\n",
       "  <tbody>\n",
       "    <tr>\n",
       "      <th>0</th>\n",
       "      <td>Netflix</td>\n",
       "      <td>0.82</td>\n",
       "    </tr>\n",
       "    <tr>\n",
       "      <th>1</th>\n",
       "      <td>Zee5</td>\n",
       "      <td>0.63</td>\n",
       "    </tr>\n",
       "    <tr>\n",
       "      <th>2</th>\n",
       "      <td>Hotstar</td>\n",
       "      <td>0.25</td>\n",
       "    </tr>\n",
       "    <tr>\n",
       "      <th>3</th>\n",
       "      <td>Prime Video</td>\n",
       "      <td>0.20</td>\n",
       "    </tr>\n",
       "    <tr>\n",
       "      <th>4</th>\n",
       "      <td>YouTube</td>\n",
       "      <td>0.95</td>\n",
       "    </tr>\n",
       "    <tr>\n",
       "      <th>...</th>\n",
       "      <td>...</td>\n",
       "      <td>...</td>\n",
       "    </tr>\n",
       "    <tr>\n",
       "      <th>4995</th>\n",
       "      <td>Netflix</td>\n",
       "      <td>0.33</td>\n",
       "    </tr>\n",
       "    <tr>\n",
       "      <th>4996</th>\n",
       "      <td>Zee5</td>\n",
       "      <td>0.70</td>\n",
       "    </tr>\n",
       "    <tr>\n",
       "      <th>4997</th>\n",
       "      <td>Netflix</td>\n",
       "      <td>0.47</td>\n",
       "    </tr>\n",
       "    <tr>\n",
       "      <th>4998</th>\n",
       "      <td>Netflix</td>\n",
       "      <td>0.51</td>\n",
       "    </tr>\n",
       "    <tr>\n",
       "      <th>4999</th>\n",
       "      <td>SonyLiv</td>\n",
       "      <td>0.72</td>\n",
       "    </tr>\n",
       "  </tbody>\n",
       "</table>\n",
       "<p>5000 rows × 2 columns</p>\n",
       "</div>"
      ],
      "text/plain": [
       "         platform  completion_rate\n",
       "0         Netflix             0.82\n",
       "1            Zee5             0.63\n",
       "2         Hotstar             0.25\n",
       "3     Prime Video             0.20\n",
       "4         YouTube             0.95\n",
       "...           ...              ...\n",
       "4995      Netflix             0.33\n",
       "4996         Zee5             0.70\n",
       "4997      Netflix             0.47\n",
       "4998      Netflix             0.51\n",
       "4999      SonyLiv             0.72\n",
       "\n",
       "[5000 rows x 2 columns]"
      ]
     },
     "execution_count": 45,
     "metadata": {},
     "output_type": "execute_result"
    }
   ],
   "source": [
    "df.loc[:,[\"platform\",\"completion_rate\"]] # this is shows only Selected column  values"
   ]
  },
  {
   "cell_type": "code",
   "execution_count": 46,
   "id": "5a5f8b0f-ec27-4311-b389-b72324728dd0",
   "metadata": {},
   "outputs": [
    {
     "data": {
      "text/html": [
       "<div>\n",
       "<style scoped>\n",
       "    .dataframe tbody tr th:only-of-type {\n",
       "        vertical-align: middle;\n",
       "    }\n",
       "\n",
       "    .dataframe tbody tr th {\n",
       "        vertical-align: top;\n",
       "    }\n",
       "\n",
       "    .dataframe thead th {\n",
       "        text-align: right;\n",
       "    }\n",
       "</style>\n",
       "<table border=\"1\" class=\"dataframe\">\n",
       "  <thead>\n",
       "    <tr style=\"text-align: right;\">\n",
       "      <th></th>\n",
       "      <th>platform</th>\n",
       "      <th>watch_time_minutes</th>\n",
       "      <th>genre</th>\n",
       "      <th>date</th>\n",
       "      <th>device</th>\n",
       "      <th>location</th>\n",
       "      <th>completion_rate</th>\n",
       "      <th>watch_category</th>\n",
       "    </tr>\n",
       "  </thead>\n",
       "  <tbody>\n",
       "    <tr>\n",
       "      <th>0</th>\n",
       "      <td>Netflix</td>\n",
       "      <td>76</td>\n",
       "      <td>Biography</td>\n",
       "      <td>2024-11-14</td>\n",
       "      <td>Gaming Console</td>\n",
       "      <td>Australia</td>\n",
       "      <td>0.82</td>\n",
       "      <td>Medium</td>\n",
       "    </tr>\n",
       "    <tr>\n",
       "      <th>1</th>\n",
       "      <td>Zee5</td>\n",
       "      <td>197</td>\n",
       "      <td>History</td>\n",
       "      <td>2024-01-11</td>\n",
       "      <td>Desktop</td>\n",
       "      <td>India</td>\n",
       "      <td>0.63</td>\n",
       "      <td>Binge</td>\n",
       "    </tr>\n",
       "    <tr>\n",
       "      <th>2</th>\n",
       "      <td>Hotstar</td>\n",
       "      <td>115</td>\n",
       "      <td>Crime</td>\n",
       "      <td>2024-03-09</td>\n",
       "      <td>Set-top Box</td>\n",
       "      <td>Mexico</td>\n",
       "      <td>0.25</td>\n",
       "      <td>Long</td>\n",
       "    </tr>\n",
       "    <tr>\n",
       "      <th>3</th>\n",
       "      <td>Prime Video</td>\n",
       "      <td>297</td>\n",
       "      <td>Sport</td>\n",
       "      <td>2024-07-10</td>\n",
       "      <td>Smart TV</td>\n",
       "      <td>UK</td>\n",
       "      <td>0.20</td>\n",
       "      <td>Binge</td>\n",
       "    </tr>\n",
       "    <tr>\n",
       "      <th>4</th>\n",
       "      <td>YouTube</td>\n",
       "      <td>281</td>\n",
       "      <td>Reality</td>\n",
       "      <td>2024-04-11</td>\n",
       "      <td>Desktop</td>\n",
       "      <td>Canada</td>\n",
       "      <td>0.95</td>\n",
       "      <td>Binge</td>\n",
       "    </tr>\n",
       "    <tr>\n",
       "      <th>...</th>\n",
       "      <td>...</td>\n",
       "      <td>...</td>\n",
       "      <td>...</td>\n",
       "      <td>...</td>\n",
       "      <td>...</td>\n",
       "      <td>...</td>\n",
       "      <td>...</td>\n",
       "      <td>...</td>\n",
       "    </tr>\n",
       "    <tr>\n",
       "      <th>4995</th>\n",
       "      <td>Netflix</td>\n",
       "      <td>207</td>\n",
       "      <td>Thriller</td>\n",
       "      <td>2024-10-04</td>\n",
       "      <td>Set-top Box</td>\n",
       "      <td>Canada</td>\n",
       "      <td>0.33</td>\n",
       "      <td>Binge</td>\n",
       "    </tr>\n",
       "    <tr>\n",
       "      <th>4996</th>\n",
       "      <td>Zee5</td>\n",
       "      <td>291</td>\n",
       "      <td>History</td>\n",
       "      <td>2024-05-02</td>\n",
       "      <td>Gaming Console</td>\n",
       "      <td>UK</td>\n",
       "      <td>0.70</td>\n",
       "      <td>Binge</td>\n",
       "    </tr>\n",
       "    <tr>\n",
       "      <th>4997</th>\n",
       "      <td>Netflix</td>\n",
       "      <td>121</td>\n",
       "      <td>Reality</td>\n",
       "      <td>2025-03-13</td>\n",
       "      <td>Gaming Console</td>\n",
       "      <td>Japan</td>\n",
       "      <td>0.47</td>\n",
       "      <td>Long</td>\n",
       "    </tr>\n",
       "    <tr>\n",
       "      <th>4998</th>\n",
       "      <td>Netflix</td>\n",
       "      <td>118</td>\n",
       "      <td>Action</td>\n",
       "      <td>2025-03-11</td>\n",
       "      <td>Tablet</td>\n",
       "      <td>Mexico</td>\n",
       "      <td>0.51</td>\n",
       "      <td>Long</td>\n",
       "    </tr>\n",
       "    <tr>\n",
       "      <th>4999</th>\n",
       "      <td>SonyLiv</td>\n",
       "      <td>78</td>\n",
       "      <td>Mystery</td>\n",
       "      <td>2025-01-18</td>\n",
       "      <td>Gaming Console</td>\n",
       "      <td>UAE</td>\n",
       "      <td>0.72</td>\n",
       "      <td>Medium</td>\n",
       "    </tr>\n",
       "  </tbody>\n",
       "</table>\n",
       "<p>4971 rows × 8 columns</p>\n",
       "</div>"
      ],
      "text/plain": [
       "         platform  watch_time_minutes      genre       date          device  \\\n",
       "0         Netflix                  76  Biography 2024-11-14  Gaming Console   \n",
       "1            Zee5                 197    History 2024-01-11         Desktop   \n",
       "2         Hotstar                 115      Crime 2024-03-09     Set-top Box   \n",
       "3     Prime Video                 297      Sport 2024-07-10        Smart TV   \n",
       "4         YouTube                 281    Reality 2024-04-11         Desktop   \n",
       "...           ...                 ...        ...        ...             ...   \n",
       "4995      Netflix                 207   Thriller 2024-10-04     Set-top Box   \n",
       "4996         Zee5                 291    History 2024-05-02  Gaming Console   \n",
       "4997      Netflix                 121    Reality 2025-03-13  Gaming Console   \n",
       "4998      Netflix                 118     Action 2025-03-11          Tablet   \n",
       "4999      SonyLiv                  78    Mystery 2025-01-18  Gaming Console   \n",
       "\n",
       "       location  completion_rate watch_category  \n",
       "0     Australia             0.82         Medium  \n",
       "1         India             0.63          Binge  \n",
       "2        Mexico             0.25           Long  \n",
       "3            UK             0.20          Binge  \n",
       "4        Canada             0.95          Binge  \n",
       "...         ...              ...            ...  \n",
       "4995     Canada             0.33          Binge  \n",
       "4996         UK             0.70          Binge  \n",
       "4997      Japan             0.47           Long  \n",
       "4998     Mexico             0.51           Long  \n",
       "4999        UAE             0.72         Medium  \n",
       "\n",
       "[4971 rows x 8 columns]"
      ]
     },
     "execution_count": 46,
     "metadata": {},
     "output_type": "execute_result"
    }
   ],
   "source": [
    "# keep values greater than min watch time and less than max watch time.\n",
    "filtere_value=df[(df['watch_time_minutes'] > 5) & (df['watch_time_minutes'] < 299)] # max watch time is 299 and min watch time is 5\n",
    "filtere_value"
   ]
  },
  {
   "cell_type": "markdown",
   "id": "0ff7acec-8b05-4c33-825b-f91e77401299",
   "metadata": {},
   "source": [
    "# EDA (Explorotory Data Analysis)\n",
    "- EDA is essential because it helps you understand your data before applying any models, visualizations, or business decisions.\n",
    "\n",
    "# Types of EDA\n",
    "\n",
    "# **1.Univariate Analysis**\n",
    "- Analyzing and comparing a single feature(column) within itself.\n",
    "\n",
    "# **2.Bivariate Analysis**\n",
    "- Analyzing and comparing a two features in order to find there relationship,underlying pattern and trends between them .\n",
    "\n",
    "# **3.Multivariate Analysis**\n",
    "- Analyzing and comparing more than two feature in order to find the relationship,trends,dependncies between them."
   ]
  },
  {
   "cell_type": "code",
   "execution_count": 48,
   "id": "1df49ca9-1c2c-4d7c-ba3b-90d326ae012f",
   "metadata": {},
   "outputs": [
    {
     "data": {
      "image/png": "[encoded data removed]",
      "text/plain": [
       "<Figure size 640x480 with 1 Axes>"
      ]
     },
     "metadata": {},
     "output_type": "display_data"
    }
   ],
   "source": [
    "# histogram for data distribution\n",
    "plt.figure()\n",
    "df['completion_rate'].hist(bins=10)\n",
    "plt.title(\"Histogram for completion rate feature\")\n",
    "plt.xlabel('completion rate')\n",
    "plt.ylabel('frequency')\n",
    "plt.show()"
   ]
  },
  {
   "cell_type": "markdown",
   "id": "ec9b7c04-77ca-4b0a-9ff1-0f1527ab001d",
   "metadata": {},
   "source": [
    "- The histogram shows a relatively uniform distribution of completion rates across the range, with frequencies between approximately 400 and 500.\n",
    "- The highest completion rate is 1.0, indicating that some users complete the content entirely.\n",
    "- The lowest completion rate is 0.2, indicating that some users complete as little as 20% of the content.\n"
   ]
  },
  {
   "cell_type": "code",
   "execution_count": 50,
   "id": "2a651bdc-f3a8-4324-8845-7a4fa61270ab",
   "metadata": {},
   "outputs": [
    {
     "data": {
      "text/plain": [
       "<function matplotlib.pyplot.show(close=None, block=None)>"
      ]
     },
     "execution_count": 50,
     "metadata": {},
     "output_type": "execute_result"
    },
    {
     "data": {
      "image/png": "[encoded data removed]",
      "text/plain": [
       "<Figure size 1200x600 with 1 Axes>"
      ]
     },
     "metadata": {},
     "output_type": "display_data"
    }
   ],
   "source": [
    "# histplot for watch time minutes\n",
    "plt.figure(figsize=(12,6))\n",
    "sns.histplot(df['watch_time_minutes'],bins=20,kde=True,color='purple')\n",
    "plt.show"
   ]
  },
  {
   "cell_type": "markdown",
   "id": "93a51d18-7e62-4544-8f98-506f02b30731",
   "metadata": {},
   "source": [
    "- The highest frequency is observed in the range 20-50 min,it indicating that most users watch content for around 20-50.\n",
    "- After that frequency is steady upto 250 min .\n",
    "- After 250 min the frequency is decreases.\n"
   ]
  },
  {
   "cell_type": "code",
   "execution_count": 52,
   "id": "3e558f7e-d778-491b-acd1-6a6af020c1bd",
   "metadata": {},
   "outputs": [
    {
     "data": {
      "image/png": "[encoded data removed]",
      "text/plain": [
       "<Figure size 640x480 with 1 Axes>"
      ]
     },
     "metadata": {},
     "output_type": "display_data"
    }
   ],
   "source": [
    "# boxplot for completion rate \n",
    "plt.figure()\n",
    "sns.boxplot(x=df['completion_rate'],color='green')\n",
    "plt.title(\"Box plot for completion rate feature\")\n",
    "plt.show()"
   ]
  },
  {
   "cell_type": "markdown",
   "id": "82ef585f-32bf-4298-950e-815bda3b4c7d",
   "metadata": {},
   "source": [
    "- There is no outlier are present in this column."
   ]
  },
  {
   "cell_type": "code",
   "execution_count": 54,
   "id": "798cce1b-1125-484c-9311-75d57094b475",
   "metadata": {},
   "outputs": [
    {
     "data": {
      "text/plain": [
       "<function matplotlib.pyplot.show(close=None, block=None)>"
      ]
     },
     "execution_count": 54,
     "metadata": {},
     "output_type": "execute_result"
    },
    {
     "data": {
      "image/png": "[encoded data removed]",
      "text/plain": [
       "<Figure size 1200x600 with 1 Axes>"
      ]
     },
     "metadata": {},
     "output_type": "display_data"
    }
   ],
   "source": [
    "plt.figure(figsize=(12,6))\n",
    "sns.histplot(df['completion_rate'],bins=20,kde=True,color='yellow')\n",
    "plt.show"
   ]
  },
  {
   "cell_type": "markdown",
   "id": "58bdad95-72c4-4e7f-af5b-a95f249d41f8",
   "metadata": {},
   "source": [
    "- The graph revels a relatively even distribution of completion rate.\n",
    "- There are three peaks in the graph corresponding to completion rates of 0.4,0.6 and 0.8 , with counts of approximately 310 , 320 and 310 respectively.\n",
    "- The lowest count is observed rate of 0.85 with value of around 180."
   ]
  },
  {
   "cell_type": "code",
   "execution_count": 142,
   "id": "063beda2-074a-4ead-a4f5-0c77a19fdc9a",
   "metadata": {},
   "outputs": [
    {
     "data": {
      "image/png": "[encoded data removed]",
      "text/plain": [
       "<Figure size 640x480 with 1 Axes>"
      ]
     },
     "metadata": {},
     "output_type": "display_data"
    }
   ],
   "source": [
    "plt.figure()\n",
    "sns.boxplot(x=df['watch_time_minutes'],palette='coolwarm')\n",
    "plt.title(\"Box plot for watch time minutes feature\")\n",
    "plt.show()"
   ]
  },
  {
   "cell_type": "markdown",
   "id": "86cae6ae-a6b9-4bd5-9517-3ce071a5e59b",
   "metadata": {},
   "source": [
    "- There is no outlier present in watch time minutes."
   ]
  },
  {
   "cell_type": "code",
   "execution_count": 58,
   "id": "c4c6b81f-e762-4e97-8feb-880acab1bc34",
   "metadata": {},
   "outputs": [],
   "source": [
    "import warnings\n",
    "warnings.filterwarnings('ignore')"
   ]
  },
  {
   "cell_type": "code",
   "execution_count": 59,
   "id": "3f482ae3-2873-4284-b1c1-b613ff3f5320",
   "metadata": {},
   "outputs": [
    {
     "data": {
      "image/png": "[encoded data removed]",
      "text/plain": [
       "<Figure size 2800x1200 with 1 Axes>"
      ]
     },
     "metadata": {},
     "output_type": "display_data"
    }
   ],
   "source": [
    " #count for Genres distribution\n",
    "plt.figure(figsize=(28,12))\n",
    "ax=sns.countplot(x=df['genre'],palette='coolwarm')\n",
    "for bars in ax.containers:\n",
    "    ax.bar_label(bars)\n",
    "plt.title(\"Genres Distribution\")\n",
    "plt.xlabel(\"Genre\")\n",
    "plt.ylabel(\"Distribution\")\n",
    "plt.show()   "
   ]
  },
  {
   "cell_type": "markdown",
   "id": "89339c0c-740a-4bf0-bec2-027f14feb7bd",
   "metadata": {},
   "source": [
    "- This graph shows the genres distribution.\n",
    "- The \"Horror\" is the most popular genre with acount is 302,indicating a strong interest in this category.\n",
    "- \"Action\" this genres have least popular genre with count 236,suggesting relatively lower interest in these category.\n"
   ]
  },
  {
   "cell_type": "code",
   "execution_count": 61,
   "id": "b007bc59-2d75-48d5-ad69-723d3eb9ced5",
   "metadata": {},
   "outputs": [
    {
     "data": {
      "image/png": "[encoded data removed]",
      "text/plain": [
       "<Figure size 2800x1200 with 1 Axes>"
      ]
     },
     "metadata": {},
     "output_type": "display_data"
    }
   ],
   "source": [
    "#count for platform distribution\n",
    "plt.figure(figsize=(28,12))\n",
    "ax=sns.countplot(x=df['platform'],palette='coolwarm')\n",
    "for bars in ax.containers:\n",
    "    ax.bar_label(bars)\n",
    "plt.title(\"platform Distribution\")\n",
    "plt.xlabel(\"platform\")\n",
    "plt.ylabel(\"Distribution\")\n",
    "plt.show()   "
   ]
  },
  {
   "cell_type": "markdown",
   "id": "12764a6f-cae0-4bfa-8153-0319658ddabb",
   "metadata": {},
   "source": [
    "- The highest popular platform is **Zee5**with count 917 ,indicating it is the most popular platform among the others.\n",
    "- The lowest platform is **YouTube** with count 792."
   ]
  },
  {
   "cell_type": "code",
   "execution_count": 63,
   "id": "4520d4b8-7877-45dc-9c78-a28a86b5e995",
   "metadata": {},
   "outputs": [
    {
     "data": {
      "image/png": "[encoded data removed]",
      "text/plain": [
       "<Figure size 2800x1200 with 1 Axes>"
      ]
     },
     "metadata": {},
     "output_type": "display_data"
    }
   ],
   "source": [
    "#count for Device distribution\n",
    "plt.figure(figsize=(28,12))\n",
    "ax=sns.countplot(x=df['device'],palette='Set2')\n",
    "for bars in ax.containers:\n",
    "    ax.bar_label(bars)\n",
    "plt.title(\"Devices Distribution\")\n",
    "plt.xlabel(\"Device\")\n",
    "plt.ylabel(\"Distribution\")\n",
    "plt.show()   \n"
   ]
  },
  {
   "cell_type": "markdown",
   "id": "a2dfda8f-0f89-408e-a216-e93c2ef4ee42",
   "metadata": {},
   "source": [
    "- The highest Devices are like to used are **SmartTV** with count 870.\n",
    "- The lowest used device is **Tablet** with count 793."
   ]
  },
  {
   "cell_type": "code",
   "execution_count": 65,
   "id": "c627eb9c-bde4-4dd0-8551-c5d87878bc41",
   "metadata": {},
   "outputs": [
    {
     "data": {
      "image/png": "[encoded data removed]",
      "text/plain": [
       "<Figure size 2800x1200 with 1 Axes>"
      ]
     },
     "metadata": {},
     "output_type": "display_data"
    }
   ],
   "source": [
    "#count for location distribution\n",
    "plt.figure(figsize=(28,12))\n",
    "ax=sns.countplot(x=df['location'],palette='Dark2')\n",
    "for bars in ax.containers:\n",
    "    ax.bar_label(bars)\n",
    "plt.title(\"location Distribution\")\n",
    "plt.xlabel(\"location\")\n",
    "plt.ylabel(\"Distribution\")\n",
    "plt.show()   \n"
   ]
  },
  {
   "cell_type": "markdown",
   "id": "60639863-eb47-4812-a7f3-ae46a3027f22",
   "metadata": {},
   "source": [
    "- The highest country is **UK** with count 361.\n",
    "- The Top three countries with highest count are **Brazil**(359) , **UK**(361) and **Germany**(348).\n",
    "- The UK has the highest count followed closely by the Brazil.\n",
    "- The lowest country is **UAE** with count 307."
   ]
  },
  {
   "cell_type": "code",
   "execution_count": 67,
   "id": "0f8edb0d-559d-48f3-9c1c-301e56fcea24",
   "metadata": {},
   "outputs": [
    {
     "data": {
      "image/png": "[encoded data removed]",
      "text/plain": [
       "<Figure size 2800x1200 with 1 Axes>"
      ]
     },
     "metadata": {},
     "output_type": "display_data"
    }
   ],
   "source": [
    "#count for watch category distribution\n",
    "plt.figure(figsize=(28,12))\n",
    "ax=sns.countplot(x=df['watch_category'],palette='husl')\n",
    "for bars in ax.containers:\n",
    "    ax.bar_label(bars)\n",
    "plt.title(\"watch category Distribution\")\n",
    "plt.xlabel(\"watch category\")\n",
    "plt.ylabel(\"Distribution\")\n",
    "plt.show()   \n"
   ]
  },
  {
   "cell_type": "markdown",
   "id": "eded8b1b-2068-4cb2-a060-b00e83eeebaf",
   "metadata": {},
   "source": [
    "- The highest category is **Binge** with count 1955,i.e most users are watch this type of category.\n",
    "- The lowest category is **Short** with count 477.\n",
    "- The count Medium watch category is 1038.\n",
    "- The count of Long category is 1530."
   ]
  },
  {
   "cell_type": "code",
   "execution_count": 69,
   "id": "6cbe2e6a-9c52-48bd-832d-93ec6f010f53",
   "metadata": {},
   "outputs": [
    {
     "data": {
      "image/png": "[encoded data removed]",
      "text/plain": [
       "<Figure size 640x480 with 1 Axes>"
      ]
     },
     "metadata": {},
     "output_type": "display_data"
    }
   ],
   "source": [
    "# Average Watch Time per Platform\n",
    "df.groupby('device')['watch_time_minutes'].mean().sort_values().plot(\n",
    "    kind='barh',\n",
    "    color='blue' )\n",
    "plt.title(\"Avg Watch Time by device\")\n",
    "plt.xlabel(\"Minutes\")\n",
    "plt.show()"
   ]
  },
  {
   "cell_type": "markdown",
   "id": "1ffe3b34-d3aa-4e14-a5fd-17dd1e4f0e3d",
   "metadata": {},
   "source": [
    "- The x-axis shows the watch time in minutes starting range from 0 to 140 min.\n",
    "- The y-axis shows the device name use in this dataset (Mobile,Desktop..).\n",
    "- The highest / most populart device is **Smart TV**."
   ]
  },
  {
   "cell_type": "code",
   "execution_count": 71,
   "id": "6b3330cf-037f-465d-aa8d-91cec7b57579",
   "metadata": {},
   "outputs": [
    {
     "data": {
      "image/png": "[encoded data removed]",
      "text/plain": [
       "<Figure size 2000x700 with 1 Axes>"
      ]
     },
     "metadata": {},
     "output_type": "display_data"
    }
   ],
   "source": [
    "# bar plot for location vs platform\n",
    "location_platform = df.groupby(['location', 'platform'])['watch_time_minutes'].sum().reset_index()\n",
    "\n",
    "plt.figure(figsize=(20, 7))\n",
    "sns.barplot(data=location_platform, x='location', y='watch_time_minutes', hue='platform')\n",
    "\n",
    "plt.title(\"Total Watch Time minutes by Platform in each location\", fontsize=15)\n",
    "plt.xlabel(\"location\")\n",
    "plt.ylabel(\"Watch Time\")\n",
    "plt.show()"
   ]
  },
  {
   "cell_type": "markdown",
   "id": "c8e51e4d-9066-4f28-88ac-6a57d51e339e",
   "metadata": {},
   "source": [
    "- The x-axis represent the location name.\n",
    "- y-axis represent the total watch time in minutes ranging from 0 to 12000.\n",
    "- In **Australia** the most popular platform is **Netflix** , i.e most users are like to use this platform.\n",
    "- In **Brazil** most popular platform is **Zee5**.\n",
    "- In **Canada** country most peoples are like to use **Netflix** and also **Zee5**.\n",
    "- In **France** most popular watching platform is **Netfilx**.\n",
    "- In **Germany** the highest watching platform is **Zee5** as compare to other platforms.\n",
    "- In **India** the popular and maximum using platform is **Zee5** after that use Youtube small difference between them.\n",
    "- In **Italy** most popular platform are use is **PrimeVideo**.\n",
    "- In **Japan** most popular platform is **Netflix** after that Hostar.\n",
    "- In **Mexico** popular platform is **Zee5**.\n",
    "- In **South Korea** most watching platform is **Hostar**.\n",
    "- In **Spain** most popular platform is **Zee5**.\n",
    "- In **UAE** most popular platform are using is **SonyLiv**.\n",
    "- In **UK** there are most using platform is **Zee5**.\n",
    "- In **USA** the most popular using platform is **Zee5**.\n",
    "- All obeservation the **Zee5** this platform is most popular many users are like to use."
   ]
  },
  {
   "cell_type": "code",
   "execution_count": 73,
   "id": "47ba5189-a0cb-4ff7-af8c-4d0843fcec84",
   "metadata": {},
   "outputs": [
    {
     "data": {
      "image/png": "[encoded data removed]",
      "text/plain": [
       "<Figure size 2500x700 with 1 Axes>"
      ]
     },
     "metadata": {},
     "output_type": "display_data"
    }
   ],
   "source": [
    "# barplot for genres vs platform\n",
    "genre_platform = df.groupby(['genre', 'platform'])['watch_time_minutes'].sum().reset_index()\n",
    "\n",
    "plt.figure(figsize=(25, 7))\n",
    "sns.barplot(data=genre_platform, x='genre', y='watch_time_minutes', hue='platform')\n",
    "\n",
    "plt.title(\"Total Watch Time minutes by Platform in each genres\", fontsize=15)\n",
    "plt.xlabel(\"genre\")\n",
    "plt.ylabel(\"Watch Time\")\n",
    "plt.show()"
   ]
  },
  {
   "cell_type": "markdown",
   "id": "513404c8-3a6a-4d74-b9db-414f84757dba",
   "metadata": {},
   "source": [
    "- For watching **Action** movies, most people prefer **Netflix**.\n",
    "- For **Adventure** movies, most viewers use **Hotstar**.\n",
    "- To enjoy **Animation** films, people mostly go with **Hotstar**.\n",
    "- For **Biography** content, **Hotstar** is the most used platform.\n",
    "- When it comes to **Comedy**, **Netflix** is the top choice for viewers.\n",
    "- **Crime** shows are mostly watched on **Netflix**.\n",
    "- **Documentaries** are most often viewed on **Netflix**.\n",
    "- For **Drama**, people usually prefer **Netflix**.\n",
    "- **Family**-oriented content is most popular on **Netflix**.\n",
    "- **Fantasy** movies are mostly watched on **Hotstar**.\n",
    "- For **History**-related content, users generally choose **Hotstar**.\n",
    "- **Horror** fans mostly watch their favorite films on **Hotstar**.\n",
    "- **Music**-based content is usually watched on **Hotstar**.\n",
    "- **Mystery** lovers mostly use **Netflix**.\n",
    "- **Reality** shows are mostly streamed on **Hotstar**.\n",
    "- **Romantic** movies are most popular on **Netflix**.\n",
    "- **Sci-Fi** content is widely watched on **Netflix**.\n",
    "- For **Sports** content, most users rely on **Hotstar**.\n",
    "- **Thriller** films are most commonly watched on **Netflix**."
   ]
  },
  {
   "cell_type": "markdown",
   "id": "ddcff6e0-450c-47f5-9021-7374921a9a6f",
   "metadata": {},
   "source": [
    "# Correlation\n",
    "# What is correlation ?\n",
    "- Correlation refers to the relationship between two or more variables.\n",
    "- It measure how changes in one variable are linked to the changes in another variable.\n",
    "- It apply only numerical columns.\n",
    "\n",
    "# Type of Correlation\n",
    "**1.Positive correlation** :\n",
    "- The value range is (0-1).it indicates two variables are positively correlated.i.e one variable is increase other variable is also increase or decrease.\n",
    "\n",
    "**2.Negative correlation**:\n",
    "- value range is(-1 to 0) . it indicates the two variable are negatively correlated. if one variable is increase the other variable is decrease.\n",
    "\n",
    "**3.Zero / No correlation** :\n",
    "value range is 0. it indicates there is no relationship between variables."
   ]
  },
  {
   "cell_type": "code",
   "execution_count": 76,
   "id": "5f1dc288-3400-4b33-91e6-60b10a56ea07",
   "metadata": {},
   "outputs": [
    {
     "name": "stdout",
     "output_type": "stream",
     "text": [
      "                    watch_time_minutes  completion_rate\n",
      "watch_time_minutes            1.000000        -0.005637\n",
      "completion_rate              -0.005637         1.000000\n"
     ]
    },
    {
     "data": {
      "image/png": "[encoded data removed]",
      "text/plain": [
       "<Figure size 600x400 with 2 Axes>"
      ]
     },
     "metadata": {},
     "output_type": "display_data"
    }
   ],
   "source": [
    "# correlation for discounted price,actual price,rating count,final price and rating\n",
    "correlation=df[['watch_time_minutes','completion_rate']].corr() \n",
    "print(correlation)\n",
    "plt.figure(figsize=(6,4))\n",
    "sns.heatmap(correlation,annot=True)\n",
    "plt.title('Heatmap of correlation')\n",
    "plt.show()"
   ]
  },
  {
   "cell_type": "markdown",
   "id": "2dec00af-97d0-4f0f-9e2a-d8e6fd75b314",
   "metadata": {},
   "source": [
    "- The range scale is also defined.\n",
    "- The 'watch_time_minutes' and 'completion_rate' this two columns are strongly correlated to itself,i.e coefficient of correlation is closly 1.\n",
    "- The 'watch_time_minutes' and 'completion_rate this' is negatively correlated to others. the coefficient of correlation is -1 to 0."
   ]
  },
  {
   "cell_type": "code",
   "execution_count": 78,
   "id": "8e9ef2fc-a48c-4524-8fa0-632f79d22637",
   "metadata": {},
   "outputs": [
    {
     "name": "stdout",
     "output_type": "stream",
     "text": [
      "Year\n",
      "2024    0.595486\n",
      "2025    0.604032\n",
      "Name: completion_rate, dtype: float64\n"
     ]
    }
   ],
   "source": [
    "# calculate Average completion rate by year\n",
    "\n",
    "df['Year']=df['date'].dt.year # Create a new column 'Year' by extracting the year from the 'date' column\n",
    "\n",
    "# create a group of popularity by year\n",
    "avg_com_rate=df.groupby('Year')['completion_rate'].mean() # calculate average using mean()\n",
    "print(avg_com_rate)"
   ]
  },
  {
   "cell_type": "markdown",
   "id": "c9568475-b338-4b51-804a-621f558ff080",
   "metadata": {},
   "source": [
    "# Recommendations"
   ]
  },
  {
   "cell_type": "markdown",
   "id": "910a66a2-7951-434e-96e0-99d29b917e4d",
   "metadata": {},
   "source": [
    "**1.Users accessing content via Smart TVs and Tablets have significantly higher average watch times compared to those on mobile or web.**\n",
    "   - recommendation : Focus feature development (e.g., autoplay, resume watching, personalized banners) on Smart TV and Tablet platforms to retain long-viewing users.\n",
    "\n",
    "**2.Platforms like Netflix have noticeably higher completion rates, whereas others like mobile web or browser-based apps show lower values.**\n",
    "   - recommendation : Audit low-performing platforms for UX issues (buffering, layout, navigation). Consider user interviews or session recordings to understand drop-off points.\n",
    "\n",
    "**3.Users show high watch time on content where genre = Horror and watch_category = Long.**\n",
    "   - recommendation : Invest in and promote long-form horror content. Offer content bundles (e.g., horror marathons, limited-time horror series) to boost retention.\n",
    "\n",
    "**4.Some short content (<5 minutes) still has low completion rates, possibly due to poor intros, irrelevant recommendations, or lack of hook.**\n",
    "  - recommendation : Introduce “Auto-next” functionality or group shorts into a playlist.\n",
    "\n",
    "**5.Device analysis may show that desktop/web users have moderate watch time and completion rates — possibly due to distractions or multitasking.**\n",
    "  - recommendation : Use visual cues like a “Continue Watching” bar and resume-from-last-time modals.\n",
    "  - Run user retention experiments (e.g., sticky headers, compact layouts) on web."
   ]
  }
 ],
 "metadata": {
  "kernelspec": {
   "display_name": "Python [conda env:base] *",
   "language": "python",
   "name": "conda-base-py"
  },
  "language_info": {
   "codemirror_mode": {
    "name": "ipython",
    "version": 3
   },
   "file_extension": ".py",
   "mimetype": "text/x-python",
   "name": "python",
   "nbconvert_exporter": "python",
   "pygments_lexer": "ipython3",
   "version": "3.12.7"
  }
 },
 "nbformat": 4,
 "nbformat_minor": 5
}
